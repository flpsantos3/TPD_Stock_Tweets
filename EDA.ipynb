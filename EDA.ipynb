{
  "nbformat": 4,
  "nbformat_minor": 0,
  "metadata": {
    "kernelspec": {
      "display_name": "Python 3",
      "language": "python",
      "name": "python3"
    },
    "language_info": {
      "codemirror_mode": {
        "name": "ipython",
        "version": 3
      },
      "file_extension": ".py",
      "mimetype": "text/x-python",
      "name": "python",
      "nbconvert_exporter": "python",
      "pygments_lexer": "ipython3",
      "version": "3.8.5"
    },
    "colab": {
      "name": "ProjectPartII.ipynb",
      "provenance": [],
      "collapsed_sections": []
    }
  },
  "cells": [
    {
      "cell_type": "code",
      "metadata": {
        "colab": {
          "base_uri": "https://localhost:8080/"
        },
        "id": "37WdSt0iJCM3",
        "outputId": "ac127dfb-a748-43ec-d8c0-61bbfb2da883"
      },
      "source": [
        "from google.colab import drive\n",
        "drive.mount('/content/drive')"
      ],
      "execution_count": 1,
      "outputs": [
        {
          "output_type": "stream",
          "text": [
            "Drive already mounted at /content/drive; to attempt to forcibly remount, call drive.mount(\"/content/drive\", force_remount=True).\n"
          ],
          "name": "stdout"
        }
      ]
    },
    {
      "cell_type": "code",
      "metadata": {
        "id": "nzaoyEKCJZCw"
      },
      "source": [
        "import pandas as pd\n",
        "from sklearn.preprocessing import StandardScaler\n",
        "import matplotlib.pyplot as plt"
      ],
      "execution_count": 2,
      "outputs": []
    },
    {
      "cell_type": "markdown",
      "metadata": {
        "id": "dEqOtbXn_R-t"
      },
      "source": [
        "## STOCKS DATASET"
      ]
    },
    {
      "cell_type": "code",
      "metadata": {
        "colab": {
          "base_uri": "https://localhost:8080/",
          "height": 206
        },
        "id": "EppOCnXv_R-5",
        "outputId": "1e3f04cb-43e4-4dc9-f565-4f0db751b0f4"
      },
      "source": [
        "data_stocks = pd.read_csv(\"/content/drive/MyDrive/Datasets/projetoIPAI/stock_final.csv\",\n",
        "                          index_col = 0)\n",
        "data_stocks.head()"
      ],
      "execution_count": 3,
      "outputs": [
        {
          "output_type": "execute_result",
          "data": {
            "text/html": [
              "<div>\n",
              "<style scoped>\n",
              "    .dataframe tbody tr th:only-of-type {\n",
              "        vertical-align: middle;\n",
              "    }\n",
              "\n",
              "    .dataframe tbody tr th {\n",
              "        vertical-align: top;\n",
              "    }\n",
              "\n",
              "    .dataframe thead th {\n",
              "        text-align: right;\n",
              "    }\n",
              "</style>\n",
              "<table border=\"1\" class=\"dataframe\">\n",
              "  <thead>\n",
              "    <tr style=\"text-align: right;\">\n",
              "      <th></th>\n",
              "      <th>ticker</th>\n",
              "      <th>date</th>\n",
              "      <th>volume</th>\n",
              "      <th>diff_openclose</th>\n",
              "      <th>diff_highlow</th>\n",
              "    </tr>\n",
              "  </thead>\n",
              "  <tbody>\n",
              "    <tr>\n",
              "      <th>0</th>\n",
              "      <td>AAPL</td>\n",
              "      <td>2015-01-02</td>\n",
              "      <td>53204626</td>\n",
              "      <td>2.06</td>\n",
              "      <td>4.09</td>\n",
              "    </tr>\n",
              "    <tr>\n",
              "      <th>1</th>\n",
              "      <td>AAPL</td>\n",
              "      <td>2015-01-05</td>\n",
              "      <td>64285491</td>\n",
              "      <td>2.04</td>\n",
              "      <td>3.24</td>\n",
              "    </tr>\n",
              "    <tr>\n",
              "      <th>2</th>\n",
              "      <td>AAPL</td>\n",
              "      <td>2015-01-06</td>\n",
              "      <td>65797116</td>\n",
              "      <td>0.28</td>\n",
              "      <td>2.80</td>\n",
              "    </tr>\n",
              "    <tr>\n",
              "      <th>3</th>\n",
              "      <td>AAPL</td>\n",
              "      <td>2015-01-07</td>\n",
              "      <td>40105934</td>\n",
              "      <td>-0.55</td>\n",
              "      <td>1.51</td>\n",
              "    </tr>\n",
              "    <tr>\n",
              "      <th>4</th>\n",
              "      <td>AAPL</td>\n",
              "      <td>2015-01-08</td>\n",
              "      <td>59364547</td>\n",
              "      <td>-2.66</td>\n",
              "      <td>3.45</td>\n",
              "    </tr>\n",
              "  </tbody>\n",
              "</table>\n",
              "</div>"
            ],
            "text/plain": [
              "  ticker        date    volume  diff_openclose  diff_highlow\n",
              "0   AAPL  2015-01-02  53204626            2.06          4.09\n",
              "1   AAPL  2015-01-05  64285491            2.04          3.24\n",
              "2   AAPL  2015-01-06  65797116            0.28          2.80\n",
              "3   AAPL  2015-01-07  40105934           -0.55          1.51\n",
              "4   AAPL  2015-01-08  59364547           -2.66          3.45"
            ]
          },
          "metadata": {
            "tags": []
          },
          "execution_count": 3
        }
      ]
    },
    {
      "cell_type": "markdown",
      "metadata": {
        "id": "ewXB-cUB_R-9"
      },
      "source": [
        "**Colunas:**\n",
        "- ticker - String\n",
        "- date - date;\n",
        "- volume - integer\n",
        "- diff_openclose - integer"
      ]
    },
    {
      "cell_type": "code",
      "metadata": {
        "colab": {
          "base_uri": "https://localhost:8080/"
        },
        "id": "fK26fnt-_R--",
        "outputId": "07846ba4-dec0-470b-9e38-f8509d0e71fa"
      },
      "source": [
        "data_stocks['volume'].min()"
      ],
      "execution_count": 4,
      "outputs": [
        {
          "output_type": "execute_result",
          "data": {
            "text/plain": [
              "38459"
            ]
          },
          "metadata": {
            "tags": []
          },
          "execution_count": 4
        }
      ]
    },
    {
      "cell_type": "code",
      "metadata": {
        "colab": {
          "base_uri": "https://localhost:8080/",
          "height": 294
        },
        "id": "oYc5dy3N_R-_",
        "outputId": "fb9a406b-6aca-4a7b-924d-e4702e7de168"
      },
      "source": [
        "hist_stocks_diff_openclose = data_stocks.hist(column = ['volume'], bins=6000)"
      ],
      "execution_count": 6,
      "outputs": [
        {
          "output_type": "display_data",
          "data": {
            "image/png": "[encoded data removed]",
            "text/plain": [
              "<Figure size 432x288 with 1 Axes>"
            ]
          },
          "metadata": {
            "tags": [],
            "needs_background": "light"
          }
        }
      ]
    },
    {
      "cell_type": "code",
      "metadata": {
        "colab": {
          "base_uri": "https://localhost:8080/",
          "height": 614
        },
        "id": "CX8nrSLfBs6R",
        "outputId": "3e0ccedd-addb-47df-b950-4334743bb27f"
      },
      "source": [
        "data_stocks[data_stocks.volume>100000000]"
      ],
      "execution_count": 7,
      "outputs": [
        {
          "output_type": "execute_result",
          "data": {
            "text/html": [
              "<div>\n",
              "<style scoped>\n",
              "    .dataframe tbody tr th:only-of-type {\n",
              "        vertical-align: middle;\n",
              "    }\n",
              "\n",
              "    .dataframe tbody tr th {\n",
              "        vertical-align: top;\n",
              "    }\n",
              "\n",
              "    .dataframe thead th {\n",
              "        text-align: right;\n",
              "    }\n",
              "</style>\n",
              "<table border=\"1\" class=\"dataframe\">\n",
              "  <thead>\n",
              "    <tr style=\"text-align: right;\">\n",
              "      <th></th>\n",
              "      <th>ticker</th>\n",
              "      <th>date</th>\n",
              "      <th>volume</th>\n",
              "      <th>diff_openclose</th>\n",
              "      <th>diff_highlow</th>\n",
              "    </tr>\n",
              "  </thead>\n",
              "  <tbody>\n",
              "    <tr>\n",
              "      <th>17</th>\n",
              "      <td>AAPL</td>\n",
              "      <td>2015-01-28</td>\n",
              "      <td>146477063</td>\n",
              "      <td>2.31</td>\n",
              "      <td>2.81</td>\n",
              "    </tr>\n",
              "    <tr>\n",
              "      <th>79</th>\n",
              "      <td>AAPL</td>\n",
              "      <td>2015-04-28</td>\n",
              "      <td>118923970</td>\n",
              "      <td>3.90</td>\n",
              "      <td>4.97</td>\n",
              "    </tr>\n",
              "    <tr>\n",
              "      <th>138</th>\n",
              "      <td>AAPL</td>\n",
              "      <td>2015-07-22</td>\n",
              "      <td>115450607</td>\n",
              "      <td>-3.23</td>\n",
              "      <td>3.51</td>\n",
              "    </tr>\n",
              "    <tr>\n",
              "      <th>147</th>\n",
              "      <td>AAPL</td>\n",
              "      <td>2015-08-04</td>\n",
              "      <td>124138623</td>\n",
              "      <td>2.78</td>\n",
              "      <td>4.45</td>\n",
              "    </tr>\n",
              "    <tr>\n",
              "      <th>153</th>\n",
              "      <td>AAPL</td>\n",
              "      <td>2015-08-12</td>\n",
              "      <td>101685610</td>\n",
              "      <td>-2.71</td>\n",
              "      <td>5.79</td>\n",
              "    </tr>\n",
              "    <tr>\n",
              "      <th>160</th>\n",
              "      <td>AAPL</td>\n",
              "      <td>2015-08-21</td>\n",
              "      <td>128275471</td>\n",
              "      <td>4.67</td>\n",
              "      <td>6.26</td>\n",
              "    </tr>\n",
              "    <tr>\n",
              "      <th>161</th>\n",
              "      <td>AAPL</td>\n",
              "      <td>2015-08-24</td>\n",
              "      <td>162206292</td>\n",
              "      <td>-8.25</td>\n",
              "      <td>16.80</td>\n",
              "    </tr>\n",
              "    <tr>\n",
              "      <th>162</th>\n",
              "      <td>AAPL</td>\n",
              "      <td>2015-08-25</td>\n",
              "      <td>103601599</td>\n",
              "      <td>7.37</td>\n",
              "      <td>7.61</td>\n",
              "    </tr>\n",
              "    <tr>\n",
              "      <th>268</th>\n",
              "      <td>AAPL</td>\n",
              "      <td>2016-01-27</td>\n",
              "      <td>133369674</td>\n",
              "      <td>2.62</td>\n",
              "      <td>3.29</td>\n",
              "    </tr>\n",
              "    <tr>\n",
              "      <th>331</th>\n",
              "      <td>AAPL</td>\n",
              "      <td>2016-04-27</td>\n",
              "      <td>114602142</td>\n",
              "      <td>-1.82</td>\n",
              "      <td>3.03</td>\n",
              "    </tr>\n",
              "    <tr>\n",
              "      <th>428</th>\n",
              "      <td>AAPL</td>\n",
              "      <td>2016-09-14</td>\n",
              "      <td>112340318</td>\n",
              "      <td>-3.04</td>\n",
              "      <td>4.43</td>\n",
              "    </tr>\n",
              "    <tr>\n",
              "      <th>524</th>\n",
              "      <td>AAPL</td>\n",
              "      <td>2017-02-01</td>\n",
              "      <td>111985040</td>\n",
              "      <td>-1.72</td>\n",
              "      <td>3.48</td>\n",
              "    </tr>\n",
              "    <tr>\n",
              "      <th>3865</th>\n",
              "      <td>MSFT</td>\n",
              "      <td>2015-01-27</td>\n",
              "      <td>169163953</td>\n",
              "      <td>0.29</td>\n",
              "      <td>1.10</td>\n",
              "    </tr>\n",
              "    <tr>\n",
              "      <th>3926</th>\n",
              "      <td>MSFT</td>\n",
              "      <td>2015-04-24</td>\n",
              "      <td>130933665</td>\n",
              "      <td>-2.21</td>\n",
              "      <td>2.49</td>\n",
              "    </tr>\n",
              "    <tr>\n",
              "      <th>4053</th>\n",
              "      <td>MSFT</td>\n",
              "      <td>2015-10-23</td>\n",
              "      <td>135227059</td>\n",
              "      <td>-0.57</td>\n",
              "      <td>1.82</td>\n",
              "    </tr>\n",
              "    <tr>\n",
              "      <th>4177</th>\n",
              "      <td>MSFT</td>\n",
              "      <td>2016-04-22</td>\n",
              "      <td>126834091</td>\n",
              "      <td>0.13</td>\n",
              "      <td>1.66</td>\n",
              "    </tr>\n",
              "    <tr>\n",
              "      <th>4221</th>\n",
              "      <td>MSFT</td>\n",
              "      <td>2016-06-24</td>\n",
              "      <td>133502985</td>\n",
              "      <td>-0.02</td>\n",
              "      <td>1.42</td>\n",
              "    </tr>\n",
              "    <tr>\n",
              "      <th>4849</th>\n",
              "      <td>MSFT</td>\n",
              "      <td>2018-12-21</td>\n",
              "      <td>111242070</td>\n",
              "      <td>3.40</td>\n",
              "      <td>5.54</td>\n",
              "    </tr>\n",
              "  </tbody>\n",
              "</table>\n",
              "</div>"
            ],
            "text/plain": [
              "     ticker        date     volume  diff_openclose  diff_highlow\n",
              "17     AAPL  2015-01-28  146477063            2.31          2.81\n",
              "79     AAPL  2015-04-28  118923970            3.90          4.97\n",
              "138    AAPL  2015-07-22  115450607           -3.23          3.51\n",
              "147    AAPL  2015-08-04  124138623            2.78          4.45\n",
              "153    AAPL  2015-08-12  101685610           -2.71          5.79\n",
              "160    AAPL  2015-08-21  128275471            4.67          6.26\n",
              "161    AAPL  2015-08-24  162206292           -8.25         16.80\n",
              "162    AAPL  2015-08-25  103601599            7.37          7.61\n",
              "268    AAPL  2016-01-27  133369674            2.62          3.29\n",
              "331    AAPL  2016-04-27  114602142           -1.82          3.03\n",
              "428    AAPL  2016-09-14  112340318           -3.04          4.43\n",
              "524    AAPL  2017-02-01  111985040           -1.72          3.48\n",
              "3865   MSFT  2015-01-27  169163953            0.29          1.10\n",
              "3926   MSFT  2015-04-24  130933665           -2.21          2.49\n",
              "4053   MSFT  2015-10-23  135227059           -0.57          1.82\n",
              "4177   MSFT  2016-04-22  126834091            0.13          1.66\n",
              "4221   MSFT  2016-06-24  133502985           -0.02          1.42\n",
              "4849   MSFT  2018-12-21  111242070            3.40          5.54"
            ]
          },
          "metadata": {
            "tags": []
          },
          "execution_count": 7
        }
      ]
    },
    {
      "cell_type": "code",
      "metadata": {
        "colab": {
          "base_uri": "https://localhost:8080/"
        },
        "id": "DVWiZ4RW_R_B",
        "outputId": "a9d40c23-c628-472e-8f81-6c3b9ce95186"
      },
      "source": [
        "# String lenght max, min, average\n",
        "string_length=[]\n",
        "for item in data_stocks['ticker']:\n",
        "    length = len(item)\n",
        "    string_length.append(length)\n",
        "    \n",
        "data_stocks['string_length']=string_length\n",
        "\n",
        "max_value = data_stocks['string_length'].max()\n",
        "min_value = data_stocks['string_length'].min()\n",
        "mean_value = data_stocks['string_length'].mean()\n",
        "\n",
        "print(\"The maximum value is: {}\".format(max_value))\n",
        "print(\"The minimum value is: {}\".format(min_value))\n",
        "print(\"The average value is: {}\".format(mean_value))"
      ],
      "execution_count": 8,
      "outputs": [
        {
          "output_type": "stream",
          "text": [
            "The maximum value is: 5\n",
            "The minimum value is: 4\n",
            "The average value is: 4.2\n"
          ],
          "name": "stdout"
        }
      ]
    },
    {
      "cell_type": "code",
      "metadata": {
        "colab": {
          "base_uri": "https://localhost:8080/",
          "height": 281
        },
        "id": "XwQP_fMq_R_D",
        "outputId": "7c1f4a39-f4b1-4a40-86e8-8b9d2bbd6837"
      },
      "source": [
        "_stocks_diff_openclose = data_stocks.hist(column = ['diff_openclose'],bins=3000)"
      ],
      "execution_count": 39,
      "outputs": [
        {
          "output_type": "display_data",
          "data": {
            "image/png": "[encoded data removed]",
            "text/plain": [
              "<Figure size 432x288 with 1 Axes>"
            ]
          },
          "metadata": {
            "tags": [],
            "needs_background": "light"
          }
        }
      ]
    },
    {
      "cell_type": "code",
      "metadata": {
        "colab": {
          "base_uri": "https://localhost:8080/",
          "height": 206
        },
        "id": "b6XtiHl72LH5",
        "outputId": "c47e1932-254c-4d19-d551-a13c724cfb4a"
      },
      "source": [
        "data_stocks[abs(data_stocks.diff_openclose)>100]"
      ],
      "execution_count": 42,
      "outputs": [
        {
          "output_type": "execute_result",
          "data": {
            "text/html": [
              "<div>\n",
              "<style scoped>\n",
              "    .dataframe tbody tr th:only-of-type {\n",
              "        vertical-align: middle;\n",
              "    }\n",
              "\n",
              "    .dataframe tbody tr th {\n",
              "        vertical-align: top;\n",
              "    }\n",
              "\n",
              "    .dataframe thead th {\n",
              "        text-align: right;\n",
              "    }\n",
              "</style>\n",
              "<table border=\"1\" class=\"dataframe\">\n",
              "  <thead>\n",
              "    <tr style=\"text-align: right;\">\n",
              "      <th></th>\n",
              "      <th>ticker</th>\n",
              "      <th>date</th>\n",
              "      <th>volume</th>\n",
              "      <th>diff_openclose</th>\n",
              "      <th>diff_highlow</th>\n",
              "      <th>string_length</th>\n",
              "    </tr>\n",
              "  </thead>\n",
              "  <tbody>\n",
              "    <tr>\n",
              "      <th>2233</th>\n",
              "      <td>AMZN</td>\n",
              "      <td>2018-10-10</td>\n",
              "      <td>10988855</td>\n",
              "      <td>102.64</td>\n",
              "      <td>104.15</td>\n",
              "      <td>4</td>\n",
              "    </tr>\n",
              "    <tr>\n",
              "      <th>2243</th>\n",
              "      <td>AMZN</td>\n",
              "      <td>2018-10-24</td>\n",
              "      <td>6928383</td>\n",
              "      <td>109.50</td>\n",
              "      <td>121.15</td>\n",
              "      <td>4</td>\n",
              "    </tr>\n",
              "    <tr>\n",
              "      <th>2246</th>\n",
              "      <td>AMZN</td>\n",
              "      <td>2018-10-29</td>\n",
              "      <td>13866077</td>\n",
              "      <td>121.12</td>\n",
              "      <td>170.74</td>\n",
              "      <td>4</td>\n",
              "    </tr>\n",
              "    <tr>\n",
              "      <th>2285</th>\n",
              "      <td>AMZN</td>\n",
              "      <td>2018-12-26</td>\n",
              "      <td>10411801</td>\n",
              "      <td>-102.01</td>\n",
              "      <td>110.15</td>\n",
              "      <td>4</td>\n",
              "    </tr>\n",
              "    <tr>\n",
              "      <th>6411</th>\n",
              "      <td>TSLA</td>\n",
              "      <td>2020-02-03</td>\n",
              "      <td>47233495</td>\n",
              "      <td>-106.31</td>\n",
              "      <td>112.62</td>\n",
              "      <td>4</td>\n",
              "    </tr>\n",
              "  </tbody>\n",
              "</table>\n",
              "</div>"
            ],
            "text/plain": [
              "     ticker        date    volume  diff_openclose  diff_highlow  string_length\n",
              "2233   AMZN  2018-10-10  10988855          102.64        104.15              4\n",
              "2243   AMZN  2018-10-24   6928383          109.50        121.15              4\n",
              "2246   AMZN  2018-10-29  13866077          121.12        170.74              4\n",
              "2285   AMZN  2018-12-26  10411801         -102.01        110.15              4\n",
              "6411   TSLA  2020-02-03  47233495         -106.31        112.62              4"
            ]
          },
          "metadata": {
            "tags": []
          },
          "execution_count": 42
        }
      ]
    },
    {
      "cell_type": "code",
      "metadata": {
        "colab": {
          "base_uri": "https://localhost:8080/",
          "height": 281
        },
        "id": "kD2naS0FK1-3",
        "outputId": "c1b5c5a7-3e32-4527-8b0c-b83af8bc6091"
      },
      "source": [
        "_stocks_diff_highlow = data_stocks.hist(column = ['diff_highlow'],bins=1000)"
      ],
      "execution_count": 37,
      "outputs": [
        {
          "output_type": "display_data",
          "data": {
            "image/png": "[encoded data removed]",
            "text/plain": [
              "<Figure size 432x288 with 1 Axes>"
            ]
          },
          "metadata": {
            "tags": [],
            "needs_background": "light"
          }
        }
      ]
    },
    {
      "cell_type": "code",
      "metadata": {
        "colab": {
          "base_uri": "https://localhost:8080/",
          "height": 206
        },
        "id": "nIuB2NES2iTg",
        "outputId": "e0d8d3e2-3bea-440b-9ca2-1267762d5270"
      },
      "source": [
        "data_stocks[data_stocks.diff_highlow>120]"
      ],
      "execution_count": 46,
      "outputs": [
        {
          "output_type": "execute_result",
          "data": {
            "text/html": [
              "<div>\n",
              "<style scoped>\n",
              "    .dataframe tbody tr th:only-of-type {\n",
              "        vertical-align: middle;\n",
              "    }\n",
              "\n",
              "    .dataframe tbody tr th {\n",
              "        vertical-align: top;\n",
              "    }\n",
              "\n",
              "    .dataframe thead th {\n",
              "        text-align: right;\n",
              "    }\n",
              "</style>\n",
              "<table border=\"1\" class=\"dataframe\">\n",
              "  <thead>\n",
              "    <tr style=\"text-align: right;\">\n",
              "      <th></th>\n",
              "      <th>ticker</th>\n",
              "      <th>date</th>\n",
              "      <th>volume</th>\n",
              "      <th>diff_openclose</th>\n",
              "      <th>diff_highlow</th>\n",
              "      <th>string_length</th>\n",
              "    </tr>\n",
              "  </thead>\n",
              "  <tbody>\n",
              "    <tr>\n",
              "      <th>2061</th>\n",
              "      <td>AMZN</td>\n",
              "      <td>2018-02-05</td>\n",
              "      <td>10756332</td>\n",
              "      <td>12.62</td>\n",
              "      <td>138.26</td>\n",
              "      <td>4</td>\n",
              "    </tr>\n",
              "    <tr>\n",
              "      <th>2243</th>\n",
              "      <td>AMZN</td>\n",
              "      <td>2018-10-24</td>\n",
              "      <td>6928383</td>\n",
              "      <td>109.50</td>\n",
              "      <td>121.15</td>\n",
              "      <td>4</td>\n",
              "    </tr>\n",
              "    <tr>\n",
              "      <th>2246</th>\n",
              "      <td>AMZN</td>\n",
              "      <td>2018-10-29</td>\n",
              "      <td>13866077</td>\n",
              "      <td>121.12</td>\n",
              "      <td>170.74</td>\n",
              "      <td>4</td>\n",
              "    </tr>\n",
              "    <tr>\n",
              "      <th>6412</th>\n",
              "      <td>TSLA</td>\n",
              "      <td>2020-02-04</td>\n",
              "      <td>60938758</td>\n",
              "      <td>-4.10</td>\n",
              "      <td>135.11</td>\n",
              "      <td>4</td>\n",
              "    </tr>\n",
              "    <tr>\n",
              "      <th>6413</th>\n",
              "      <td>TSLA</td>\n",
              "      <td>2020-02-05</td>\n",
              "      <td>48128154</td>\n",
              "      <td>88.56</td>\n",
              "      <td>141.87</td>\n",
              "      <td>4</td>\n",
              "    </tr>\n",
              "  </tbody>\n",
              "</table>\n",
              "</div>"
            ],
            "text/plain": [
              "     ticker        date    volume  diff_openclose  diff_highlow  string_length\n",
              "2061   AMZN  2018-02-05  10756332           12.62        138.26              4\n",
              "2243   AMZN  2018-10-24   6928383          109.50        121.15              4\n",
              "2246   AMZN  2018-10-29  13866077          121.12        170.74              4\n",
              "6412   TSLA  2020-02-04  60938758           -4.10        135.11              4\n",
              "6413   TSLA  2020-02-05  48128154           88.56        141.87              4"
            ]
          },
          "metadata": {
            "tags": []
          },
          "execution_count": 46
        }
      ]
    },
    {
      "cell_type": "markdown",
      "metadata": {
        "id": "XuM3E6zc_R_O"
      },
      "source": [
        "## COMPANY DATASET"
      ]
    },
    {
      "cell_type": "code",
      "metadata": {
        "colab": {
          "base_uri": "https://localhost:8080/",
          "height": 206
        },
        "id": "7drrm9ZM_R_P",
        "outputId": "9b65e175-a25b-4e7c-cc39-fbb27703038a"
      },
      "source": [
        "data_company = pd.read_csv(\"/content/drive/MyDrive/Datasets/projetoIPAI/company_final.csv\",\n",
        "                           index_col = 0)\n",
        "data_company.head()"
      ],
      "execution_count": 11,
      "outputs": [
        {
          "output_type": "execute_result",
          "data": {
            "text/html": [
              "<div>\n",
              "<style scoped>\n",
              "    .dataframe tbody tr th:only-of-type {\n",
              "        vertical-align: middle;\n",
              "    }\n",
              "\n",
              "    .dataframe tbody tr th {\n",
              "        vertical-align: top;\n",
              "    }\n",
              "\n",
              "    .dataframe thead th {\n",
              "        text-align: right;\n",
              "    }\n",
              "</style>\n",
              "<table border=\"1\" class=\"dataframe\">\n",
              "  <thead>\n",
              "    <tr style=\"text-align: right;\">\n",
              "      <th></th>\n",
              "      <th>ticker</th>\n",
              "      <th>name</th>\n",
              "    </tr>\n",
              "  </thead>\n",
              "  <tbody>\n",
              "    <tr>\n",
              "      <th>0</th>\n",
              "      <td>AAPL</td>\n",
              "      <td>Apple</td>\n",
              "    </tr>\n",
              "    <tr>\n",
              "      <th>3</th>\n",
              "      <td>AMZN</td>\n",
              "      <td>Amazon</td>\n",
              "    </tr>\n",
              "    <tr>\n",
              "      <th>2</th>\n",
              "      <td>GOOGL</td>\n",
              "      <td>Google</td>\n",
              "    </tr>\n",
              "    <tr>\n",
              "      <th>5</th>\n",
              "      <td>MSFT</td>\n",
              "      <td>Microsoft</td>\n",
              "    </tr>\n",
              "    <tr>\n",
              "      <th>4</th>\n",
              "      <td>TSLA</td>\n",
              "      <td>Tesla</td>\n",
              "    </tr>\n",
              "  </tbody>\n",
              "</table>\n",
              "</div>"
            ],
            "text/plain": [
              "  ticker       name\n",
              "0   AAPL      Apple\n",
              "3   AMZN     Amazon\n",
              "2  GOOGL     Google\n",
              "5   MSFT  Microsoft\n",
              "4   TSLA      Tesla"
            ]
          },
          "metadata": {
            "tags": []
          },
          "execution_count": 11
        }
      ]
    },
    {
      "cell_type": "markdown",
      "metadata": {
        "id": "bGtc-aUa_R_U"
      },
      "source": [
        "**Colunas**\n",
        "- ticker - string\n",
        "- name - string"
      ]
    },
    {
      "cell_type": "code",
      "metadata": {
        "colab": {
          "base_uri": "https://localhost:8080/"
        },
        "id": "3hGtK3j8hKk7",
        "outputId": "f91f2288-6c01-44fd-e57b-42b5abee5505"
      },
      "source": [
        "data_company.isnull().sum()"
      ],
      "execution_count": 12,
      "outputs": [
        {
          "output_type": "execute_result",
          "data": {
            "text/plain": [
              "ticker    0\n",
              "name      0\n",
              "dtype: int64"
            ]
          },
          "metadata": {
            "tags": []
          },
          "execution_count": 12
        }
      ]
    },
    {
      "cell_type": "code",
      "metadata": {
        "colab": {
          "base_uri": "https://localhost:8080/"
        },
        "id": "WjOA_O2q_R_X",
        "outputId": "8faaae9f-af51-4fd2-c7e3-0c2bf8084fde"
      },
      "source": [
        "# String lenght max, min, average\n",
        "string_length=[]\n",
        "for item in data_company['ticker']:\n",
        "    length = len(item)\n",
        "    string_length.append(length)\n",
        "    \n",
        "data_company['ticker_length']=string_length\n",
        "\n",
        "max_value = data_company['ticker_length'].max()\n",
        "min_value = data_company['ticker_length'].min()\n",
        "mean_value = data_company['ticker_length'].mean()\n",
        "\n",
        "print(\"The maximum value is: {}\".format(max_value))\n",
        "print(\"The minimum value is: {}\".format(min_value))\n",
        "print(\"The average value is: {}\".format(mean_value))"
      ],
      "execution_count": 13,
      "outputs": [
        {
          "output_type": "stream",
          "text": [
            "The maximum value is: 5\n",
            "The minimum value is: 4\n",
            "The average value is: 4.2\n"
          ],
          "name": "stdout"
        }
      ]
    },
    {
      "cell_type": "code",
      "metadata": {
        "colab": {
          "base_uri": "https://localhost:8080/"
        },
        "id": "HnxD7wvi_R_Z",
        "outputId": "543239fe-c135-49f7-d4a4-bf8c851e7f41"
      },
      "source": [
        "# String lenght max, min, average\n",
        "string_length=[]\n",
        "for item in data_company['name']:\n",
        "    length = len(item)\n",
        "    string_length.append(length)\n",
        "    \n",
        "data_company['name_length']=string_length\n",
        "\n",
        "max_value = data_company['name_length'].max()\n",
        "min_value = data_company['name_length'].min()\n",
        "mean_value = data_company['name_length'].mean()\n",
        "\n",
        "print(\"The maximum value is: {}\".format(max_value))\n",
        "print(\"The minimum value is: {}\".format(min_value))\n",
        "print(\"The average value is: {}\".format(mean_value))"
      ],
      "execution_count": 14,
      "outputs": [
        {
          "output_type": "stream",
          "text": [
            "The maximum value is: 9\n",
            "The minimum value is: 5\n",
            "The average value is: 6.2\n"
          ],
          "name": "stdout"
        }
      ]
    },
    {
      "cell_type": "markdown",
      "metadata": {
        "id": "rZs1xROi_R_a"
      },
      "source": [
        "## MENTIONS DATASET"
      ]
    },
    {
      "cell_type": "code",
      "metadata": {
        "colab": {
          "base_uri": "https://localhost:8080/",
          "height": 262
        },
        "id": "Z2FLx43p_R_a",
        "outputId": "68b48b37-8372-448a-8578-f9af85106982"
      },
      "source": [
        "data_mentions = pd.read_csv(\"/content/drive/MyDrive/Datasets/projetoIPAI/mentions_final.csv\",\n",
        "                            index_col=0)\n",
        "data_mentions.head()"
      ],
      "execution_count": 15,
      "outputs": [
        {
          "output_type": "stream",
          "text": [
            "/usr/local/lib/python3.7/dist-packages/numpy/lib/arraysetops.py:580: FutureWarning: elementwise comparison failed; returning scalar instead, but in the future will perform elementwise comparison\n",
            "  mask |= (ar1 == a)\n"
          ],
          "name": "stderr"
        },
        {
          "output_type": "execute_result",
          "data": {
            "text/html": [
              "<div>\n",
              "<style scoped>\n",
              "    .dataframe tbody tr th:only-of-type {\n",
              "        vertical-align: middle;\n",
              "    }\n",
              "\n",
              "    .dataframe tbody tr th {\n",
              "        vertical-align: top;\n",
              "    }\n",
              "\n",
              "    .dataframe thead th {\n",
              "        text-align: right;\n",
              "    }\n",
              "</style>\n",
              "<table border=\"1\" class=\"dataframe\">\n",
              "  <thead>\n",
              "    <tr style=\"text-align: right;\">\n",
              "      <th></th>\n",
              "      <th>tweet_id</th>\n",
              "      <th>ticker</th>\n",
              "    </tr>\n",
              "  </thead>\n",
              "  <tbody>\n",
              "    <tr>\n",
              "      <th>0</th>\n",
              "      <td>550441509175443456</td>\n",
              "      <td>AAPL</td>\n",
              "    </tr>\n",
              "    <tr>\n",
              "      <th>1</th>\n",
              "      <td>550441672312512512</td>\n",
              "      <td>AAPL</td>\n",
              "    </tr>\n",
              "    <tr>\n",
              "      <th>2</th>\n",
              "      <td>550441732014223360</td>\n",
              "      <td>AMZN</td>\n",
              "    </tr>\n",
              "    <tr>\n",
              "      <th>3</th>\n",
              "      <td>550442977802207232</td>\n",
              "      <td>TSLA</td>\n",
              "    </tr>\n",
              "    <tr>\n",
              "      <th>4</th>\n",
              "      <td>550443807834402816</td>\n",
              "      <td>TSLA</td>\n",
              "    </tr>\n",
              "  </tbody>\n",
              "</table>\n",
              "</div>"
            ],
            "text/plain": [
              "             tweet_id ticker\n",
              "0  550441509175443456   AAPL\n",
              "1  550441672312512512   AAPL\n",
              "2  550441732014223360   AMZN\n",
              "3  550442977802207232   TSLA\n",
              "4  550443807834402816   TSLA"
            ]
          },
          "metadata": {
            "tags": []
          },
          "execution_count": 15
        }
      ]
    },
    {
      "cell_type": "markdown",
      "metadata": {
        "id": "j_P8OmAB_R_b"
      },
      "source": [
        "**Colunas**\n",
        "- tweet_id - integer\n",
        "- ticker - string"
      ]
    },
    {
      "cell_type": "code",
      "metadata": {
        "colab": {
          "base_uri": "https://localhost:8080/"
        },
        "id": "qbgtPlRNhHI9",
        "outputId": "ad075aaa-d08c-4d00-c446-682b79fa64d4"
      },
      "source": [
        "data_mentions.isnull().sum()"
      ],
      "execution_count": 16,
      "outputs": [
        {
          "output_type": "execute_result",
          "data": {
            "text/plain": [
              "tweet_id    0\n",
              "ticker      0\n",
              "dtype: int64"
            ]
          },
          "metadata": {
            "tags": []
          },
          "execution_count": 16
        }
      ]
    },
    {
      "cell_type": "code",
      "metadata": {
        "colab": {
          "base_uri": "https://localhost:8080/"
        },
        "id": "HF85TgVtgaAQ",
        "outputId": "b5b616c7-878b-4b9b-81e2-b525cca2bdc6"
      },
      "source": [
        "data_mentions.ticker.value_counts()"
      ],
      "execution_count": 17,
      "outputs": [
        {
          "output_type": "execute_result",
          "data": {
            "text/plain": [
              "AAPL     1425013\n",
              "TSLA     1096868\n",
              "GOOGL     720138\n",
              "AMZN      718715\n",
              "MSFT      375711\n",
              "Name: ticker, dtype: int64"
            ]
          },
          "metadata": {
            "tags": []
          },
          "execution_count": 17
        }
      ]
    },
    {
      "cell_type": "code",
      "metadata": {
        "colab": {
          "base_uri": "https://localhost:8080/"
        },
        "id": "FapO_KxUgqd6",
        "outputId": "dee0d032-b91b-4f47-9ffa-b1e9b70b3820"
      },
      "source": [
        "data_mentions.ticker.nunique()"
      ],
      "execution_count": 18,
      "outputs": [
        {
          "output_type": "execute_result",
          "data": {
            "text/plain": [
              "5"
            ]
          },
          "metadata": {
            "tags": []
          },
          "execution_count": 18
        }
      ]
    },
    {
      "cell_type": "markdown",
      "metadata": {
        "id": "WeX3kdDX_R_b"
      },
      "source": [
        "## TWEET DATASET"
      ]
    },
    {
      "cell_type": "code",
      "metadata": {
        "colab": {
          "base_uri": "https://localhost:8080/",
          "height": 262
        },
        "id": "DvZA5-vi_R_c",
        "outputId": "fef5416f-ec8f-4c5c-98d9-0323019677c3"
      },
      "source": [
        "data_tweet = pd.read_csv(\"/content/drive/MyDrive/Datasets/projetoIPAI/tweet_final.csv\",\n",
        "                         index_col=0)\n",
        "data_tweet.head()"
      ],
      "execution_count": 19,
      "outputs": [
        {
          "output_type": "stream",
          "text": [
            "/usr/local/lib/python3.7/dist-packages/numpy/lib/arraysetops.py:580: FutureWarning: elementwise comparison failed; returning scalar instead, but in the future will perform elementwise comparison\n",
            "  mask |= (ar1 == a)\n"
          ],
          "name": "stderr"
        },
        {
          "output_type": "execute_result",
          "data": {
            "text/html": [
              "<div>\n",
              "<style scoped>\n",
              "    .dataframe tbody tr th:only-of-type {\n",
              "        vertical-align: middle;\n",
              "    }\n",
              "\n",
              "    .dataframe tbody tr th {\n",
              "        vertical-align: top;\n",
              "    }\n",
              "\n",
              "    .dataframe thead th {\n",
              "        text-align: right;\n",
              "    }\n",
              "</style>\n",
              "<table border=\"1\" class=\"dataframe\">\n",
              "  <thead>\n",
              "    <tr style=\"text-align: right;\">\n",
              "      <th></th>\n",
              "      <th>tweet_id</th>\n",
              "      <th>writer</th>\n",
              "      <th>post_date</th>\n",
              "      <th>body</th>\n",
              "      <th>comment_num</th>\n",
              "      <th>retweet_num</th>\n",
              "      <th>like_num</th>\n",
              "    </tr>\n",
              "  </thead>\n",
              "  <tbody>\n",
              "    <tr>\n",
              "      <th>0</th>\n",
              "      <td>550441509175443456</td>\n",
              "      <td>VisualStockRSRC</td>\n",
              "      <td>2015-01-01</td>\n",
              "      <td>lx21 made $10,008  on $AAPL -Check it out! htt...</td>\n",
              "      <td>0</td>\n",
              "      <td>0</td>\n",
              "      <td>1</td>\n",
              "    </tr>\n",
              "    <tr>\n",
              "      <th>1</th>\n",
              "      <td>550441672312512512</td>\n",
              "      <td>KeralaGuy77</td>\n",
              "      <td>2015-01-01</td>\n",
              "      <td>Insanity of today weirdo massive selling. $aap...</td>\n",
              "      <td>0</td>\n",
              "      <td>0</td>\n",
              "      <td>0</td>\n",
              "    </tr>\n",
              "    <tr>\n",
              "      <th>2</th>\n",
              "      <td>550441732014223360</td>\n",
              "      <td>DozenStocks</td>\n",
              "      <td>2015-01-01</td>\n",
              "      <td>S&amp;P100 #Stocks Performance $HD $LOW $SBUX $TGT...</td>\n",
              "      <td>0</td>\n",
              "      <td>0</td>\n",
              "      <td>0</td>\n",
              "    </tr>\n",
              "    <tr>\n",
              "      <th>3</th>\n",
              "      <td>550442977802207232</td>\n",
              "      <td>ShowDreamCar</td>\n",
              "      <td>2015-01-01</td>\n",
              "      <td>$GM $TSLA: Volkswagen Pushes 2014 Record Recal...</td>\n",
              "      <td>0</td>\n",
              "      <td>0</td>\n",
              "      <td>1</td>\n",
              "    </tr>\n",
              "    <tr>\n",
              "      <th>4</th>\n",
              "      <td>550443807834402816</td>\n",
              "      <td>i_Know_First</td>\n",
              "      <td>2015-01-01</td>\n",
              "      <td>Swing Trading: Up To 8.91% Return In 14 Days h...</td>\n",
              "      <td>0</td>\n",
              "      <td>0</td>\n",
              "      <td>1</td>\n",
              "    </tr>\n",
              "  </tbody>\n",
              "</table>\n",
              "</div>"
            ],
            "text/plain": [
              "             tweet_id           writer  ... retweet_num like_num\n",
              "0  550441509175443456  VisualStockRSRC  ...           0        1\n",
              "1  550441672312512512      KeralaGuy77  ...           0        0\n",
              "2  550441732014223360      DozenStocks  ...           0        0\n",
              "3  550442977802207232     ShowDreamCar  ...           0        1\n",
              "4  550443807834402816     i_Know_First  ...           0        1\n",
              "\n",
              "[5 rows x 7 columns]"
            ]
          },
          "metadata": {
            "tags": []
          },
          "execution_count": 19
        }
      ]
    },
    {
      "cell_type": "markdown",
      "metadata": {
        "id": "cCdL4zAD_R_d"
      },
      "source": [
        "**Colunas**\n",
        "- tweet_id - integer\n",
        "- writer - string\n",
        "- post_date - date\n",
        "- body - string\n",
        "- comment_num - integer\n",
        "- retweet_num - integer\n",
        "- like_num - integer"
      ]
    },
    {
      "cell_type": "code",
      "metadata": {
        "colab": {
          "base_uri": "https://localhost:8080/"
        },
        "id": "Om7CqSwNhU4l",
        "outputId": "e3c8afcb-2891-4c34-a6b0-ef9e51b968c6"
      },
      "source": [
        "data_tweet.isnull().sum()"
      ],
      "execution_count": 20,
      "outputs": [
        {
          "output_type": "execute_result",
          "data": {
            "text/plain": [
              "tweet_id       0\n",
              "writer         0\n",
              "post_date      0\n",
              "body           0\n",
              "comment_num    0\n",
              "retweet_num    0\n",
              "like_num       0\n",
              "dtype: int64"
            ]
          },
          "metadata": {
            "tags": []
          },
          "execution_count": 20
        }
      ]
    },
    {
      "cell_type": "code",
      "metadata": {
        "colab": {
          "base_uri": "https://localhost:8080/"
        },
        "id": "nwAPV4aFgg8l",
        "outputId": "ecd9be53-386d-4f81-fb00-4648fa581d2d"
      },
      "source": [
        "data_tweet.writer.nunique()"
      ],
      "execution_count": 21,
      "outputs": [
        {
          "output_type": "execute_result",
          "data": {
            "text/plain": [
              "140132"
            ]
          },
          "metadata": {
            "tags": []
          },
          "execution_count": 21
        }
      ]
    },
    {
      "cell_type": "code",
      "metadata": {
        "colab": {
          "base_uri": "https://localhost:8080/"
        },
        "id": "hX7hKdlTgk9C",
        "outputId": "426d3e48-c698-4fd9-bf86-ac2c4aef3680"
      },
      "source": [
        "data_tweet.writer.value_counts()"
      ],
      "execution_count": 22,
      "outputs": [
        {
          "output_type": "execute_result",
          "data": {
            "text/plain": [
              "App_sw_            91741\n",
              "_peripherals       91461\n",
              "computer_hware     90919\n",
              "It_c0nsulting      75270\n",
              "PortfolioBuzz      59838\n",
              "                   ...  \n",
              "TrappMoneyHenny        1\n",
              "fgh6789_frank          1\n",
              "ALICEplatform          1\n",
              "kissshh_               1\n",
              "Rekt_Tekashi           1\n",
              "Name: writer, Length: 140132, dtype: int64"
            ]
          },
          "metadata": {
            "tags": []
          },
          "execution_count": 22
        }
      ]
    },
    {
      "cell_type": "code",
      "metadata": {
        "colab": {
          "base_uri": "https://localhost:8080/"
        },
        "id": "HLN_K_Yr_R_d",
        "outputId": "b09e8805-024f-4f78-b696-b30a4a27bcaf"
      },
      "source": [
        "# String lenght max, min, average\n",
        "string_length=[]\n",
        "for item in data_tweet['writer']:\n",
        "    length = len(item)\n",
        "    string_length.append(length)\n",
        "    \n",
        "data_tweet['writer_length']=string_length\n",
        "\n",
        "max_value = data_tweet['writer_length'].max()\n",
        "min_value = data_tweet['writer_length'].min()\n",
        "mean_value = data_tweet['writer_length'].mean()\n",
        "\n",
        "print(\"The maximum value is: {}\".format(max_value))\n",
        "print(\"The minimum value is: {}\".format(min_value))\n",
        "print(\"The average value is: {}\".format(mean_value))\n"
      ],
      "execution_count": 23,
      "outputs": [
        {
          "output_type": "stream",
          "text": [
            "The maximum value is: 17\n",
            "The minimum value is: 1\n",
            "The average value is: 11.281894068904379\n"
          ],
          "name": "stdout"
        }
      ]
    },
    {
      "cell_type": "code",
      "metadata": {
        "colab": {
          "base_uri": "https://localhost:8080/"
        },
        "id": "Yt7qXL-a_R_d",
        "outputId": "99f0146e-1958-4865-a575-1f0b18a47317"
      },
      "source": [
        "# String lenght max, min, average\n",
        "string_length=[]\n",
        "for item in data_tweet['body']:\n",
        "    length = len(item)\n",
        "    string_length.append(length)\n",
        "    \n",
        "data_tweet['body_length']=string_length\n",
        "\n",
        "max_value = data_tweet['body_length'].max()\n",
        "min_value = data_tweet['body_length'].min()\n",
        "mean_value = data_tweet['body_length'].mean()\n",
        "\n",
        "print(\"The maximum value is: {}\".format(max_value))\n",
        "print(\"The minimum value is: {}\".format(min_value))\n",
        "print(\"The average value is: {}\".format(mean_value))"
      ],
      "execution_count": 24,
      "outputs": [
        {
          "output_type": "stream",
          "text": [
            "The maximum value is: 3847\n",
            "The minimum value is: 4\n",
            "The average value is: 126.2406317005759\n"
          ],
          "name": "stdout"
        }
      ]
    },
    {
      "cell_type": "code",
      "metadata": {
        "colab": {
          "base_uri": "https://localhost:8080/",
          "height": 135
        },
        "id": "dqdBCsEY_R_d",
        "outputId": "5442b201-bd5b-4c33-d031-76b992d7f2f7"
      },
      "source": [
        "pd.set_option('display.max_colwidth', None)\n",
        "data_tweet.loc[data_tweet['body_length'] == 3847]"
      ],
      "execution_count": 25,
      "outputs": [
        {
          "output_type": "execute_result",
          "data": {
            "text/html": [
              "<div>\n",
              "<style scoped>\n",
              "    .dataframe tbody tr th:only-of-type {\n",
              "        vertical-align: middle;\n",
              "    }\n",
              "\n",
              "    .dataframe tbody tr th {\n",
              "        vertical-align: top;\n",
              "    }\n",
              "\n",
              "    .dataframe thead th {\n",
              "        text-align: right;\n",
              "    }\n",
              "</style>\n",
              "<table border=\"1\" class=\"dataframe\">\n",
              "  <thead>\n",
              "    <tr style=\"text-align: right;\">\n",
              "      <th></th>\n",
              "      <th>tweet_id</th>\n",
              "      <th>writer</th>\n",
              "      <th>post_date</th>\n",
              "      <th>body</th>\n",
              "      <th>comment_num</th>\n",
              "      <th>retweet_num</th>\n",
              "      <th>like_num</th>\n",
              "      <th>writer_length</th>\n",
              "      <th>body_length</th>\n",
              "    </tr>\n",
              "  </thead>\n",
              "  <tbody>\n",
              "    <tr>\n",
              "      <th>2880653</th>\n",
              "      <td>1064923746467790849</td>\n",
              "      <td>petergo99037185</td>\n",
              "      <td>2018-11-20</td>\n",
              "      <td>$AAPL chart: https://s.yimg.com/uc/finance/chart/18/10/714ce04.png… Interactive Chart: https://finance.yahoo.com/chart/AAPL#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… via @YahooFinance</td>\n",
              "      <td>0</td>\n",
              "      <td>0</td>\n",
              "      <td>0</td>\n",
              "      <td>15</td>\n",
              "      <td>3847</td>\n",
              "    </tr>\n",
              "  </tbody>\n",
              "</table>\n",
              "</div>"
            ],
            "text/plain": [
              "                    tweet_id           writer  ... writer_length body_length\n",
              "2880653  1064923746467790849  petergo99037185  ...            15        3847\n",
              "\n",
              "[1 rows x 9 columns]"
            ]
          },
          "metadata": {
            "tags": []
          },
          "execution_count": 25
        }
      ]
    },
    {
      "cell_type": "code",
      "metadata": {
        "colab": {
          "base_uri": "https://localhost:8080/",
          "height": 394
        },
        "id": "hnTnvoNxgDno",
        "outputId": "8c003920-6126-4ffa-e5cd-fa2e718853b3"
      },
      "source": [
        "data_tweet.loc[data_tweet['body_length'] == 4]"
      ],
      "execution_count": 26,
      "outputs": [
        {
          "output_type": "execute_result",
          "data": {
            "text/html": [
              "<div>\n",
              "<style scoped>\n",
              "    .dataframe tbody tr th:only-of-type {\n",
              "        vertical-align: middle;\n",
              "    }\n",
              "\n",
              "    .dataframe tbody tr th {\n",
              "        vertical-align: top;\n",
              "    }\n",
              "\n",
              "    .dataframe thead th {\n",
              "        text-align: right;\n",
              "    }\n",
              "</style>\n",
              "<table border=\"1\" class=\"dataframe\">\n",
              "  <thead>\n",
              "    <tr style=\"text-align: right;\">\n",
              "      <th></th>\n",
              "      <th>tweet_id</th>\n",
              "      <th>writer</th>\n",
              "      <th>post_date</th>\n",
              "      <th>body</th>\n",
              "      <th>comment_num</th>\n",
              "      <th>retweet_num</th>\n",
              "      <th>like_num</th>\n",
              "      <th>writer_length</th>\n",
              "      <th>body_length</th>\n",
              "    </tr>\n",
              "  </thead>\n",
              "  <tbody>\n",
              "    <tr>\n",
              "      <th>1240359</th>\n",
              "      <td>765255782375890944</td>\n",
              "      <td>georgeamedina</td>\n",
              "      <td>2016-08-15</td>\n",
              "      <td>Oops</td>\n",
              "      <td>0</td>\n",
              "      <td>0</td>\n",
              "      <td>0</td>\n",
              "      <td>13</td>\n",
              "      <td>4</td>\n",
              "    </tr>\n",
              "    <tr>\n",
              "      <th>1245104</th>\n",
              "      <td>765723156317437952</td>\n",
              "      <td>Yeomen23</td>\n",
              "      <td>2016-08-17</td>\n",
              "      <td>Oops</td>\n",
              "      <td>0</td>\n",
              "      <td>0</td>\n",
              "      <td>2</td>\n",
              "      <td>8</td>\n",
              "      <td>4</td>\n",
              "    </tr>\n",
              "    <tr>\n",
              "      <th>1761798</th>\n",
              "      <td>852591911399440386</td>\n",
              "      <td>P3Dguy</td>\n",
              "      <td>2017-04-13</td>\n",
              "      <td>July</td>\n",
              "      <td>0</td>\n",
              "      <td>0</td>\n",
              "      <td>0</td>\n",
              "      <td>6</td>\n",
              "      <td>4</td>\n",
              "    </tr>\n",
              "    <tr>\n",
              "      <th>2619306</th>\n",
              "      <td>1028090103938379776</td>\n",
              "      <td>victrola78</td>\n",
              "      <td>2018-08-11</td>\n",
              "      <td>More</td>\n",
              "      <td>0</td>\n",
              "      <td>0</td>\n",
              "      <td>1</td>\n",
              "      <td>10</td>\n",
              "      <td>4</td>\n",
              "    </tr>\n",
              "    <tr>\n",
              "      <th>2983137</th>\n",
              "      <td>1083057719769149441</td>\n",
              "      <td>TheTrendIsUp</td>\n",
              "      <td>2019-01-09</td>\n",
              "      <td>soon</td>\n",
              "      <td>0</td>\n",
              "      <td>0</td>\n",
              "      <td>0</td>\n",
              "      <td>12</td>\n",
              "      <td>4</td>\n",
              "    </tr>\n",
              "    <tr>\n",
              "      <th>3007269</th>\n",
              "      <td>1087407701364224000</td>\n",
              "      <td>ssb168</td>\n",
              "      <td>2019-01-21</td>\n",
              "      <td>lolz</td>\n",
              "      <td>0</td>\n",
              "      <td>0</td>\n",
              "      <td>1</td>\n",
              "      <td>6</td>\n",
              "      <td>4</td>\n",
              "    </tr>\n",
              "    <tr>\n",
              "      <th>3500009</th>\n",
              "      <td>1169246911871631360</td>\n",
              "      <td>passthebeano</td>\n",
              "      <td>2019-09-04</td>\n",
              "      <td>Nice</td>\n",
              "      <td>1</td>\n",
              "      <td>0</td>\n",
              "      <td>3</td>\n",
              "      <td>12</td>\n",
              "      <td>4</td>\n",
              "    </tr>\n",
              "    <tr>\n",
              "      <th>3517193</th>\n",
              "      <td>1172485842218168320</td>\n",
              "      <td>asymmetricbets</td>\n",
              "      <td>2019-09-13</td>\n",
              "      <td>Ahem</td>\n",
              "      <td>0</td>\n",
              "      <td>0</td>\n",
              "      <td>4</td>\n",
              "      <td>14</td>\n",
              "      <td>4</td>\n",
              "    </tr>\n",
              "    <tr>\n",
              "      <th>3517223</th>\n",
              "      <td>1172489184445157376</td>\n",
              "      <td>sbalatan</td>\n",
              "      <td>2019-09-13</td>\n",
              "      <td>Ahem</td>\n",
              "      <td>0</td>\n",
              "      <td>1</td>\n",
              "      <td>1</td>\n",
              "      <td>8</td>\n",
              "      <td>4</td>\n",
              "    </tr>\n",
              "    <tr>\n",
              "      <th>3646479</th>\n",
              "      <td>1197747665594748928</td>\n",
              "      <td>veganshelly</td>\n",
              "      <td>2019-11-22</td>\n",
              "      <td>Same</td>\n",
              "      <td>0</td>\n",
              "      <td>1</td>\n",
              "      <td>7</td>\n",
              "      <td>11</td>\n",
              "      <td>4</td>\n",
              "    </tr>\n",
              "    <tr>\n",
              "      <th>3702666</th>\n",
              "      <td>1209224886029312001</td>\n",
              "      <td>TimothyBuffett</td>\n",
              "      <td>2019-12-23</td>\n",
              "      <td>Nice</td>\n",
              "      <td>0</td>\n",
              "      <td>0</td>\n",
              "      <td>0</td>\n",
              "      <td>14</td>\n",
              "      <td>4</td>\n",
              "    </tr>\n",
              "  </tbody>\n",
              "</table>\n",
              "</div>"
            ],
            "text/plain": [
              "                    tweet_id          writer  ... writer_length body_length\n",
              "1240359   765255782375890944   georgeamedina  ...            13           4\n",
              "1245104   765723156317437952        Yeomen23  ...             8           4\n",
              "1761798   852591911399440386          P3Dguy  ...             6           4\n",
              "2619306  1028090103938379776      victrola78  ...            10           4\n",
              "2983137  1083057719769149441    TheTrendIsUp  ...            12           4\n",
              "3007269  1087407701364224000          ssb168  ...             6           4\n",
              "3500009  1169246911871631360    passthebeano  ...            12           4\n",
              "3517193  1172485842218168320  asymmetricbets  ...            14           4\n",
              "3517223  1172489184445157376        sbalatan  ...             8           4\n",
              "3646479  1197747665594748928     veganshelly  ...            11           4\n",
              "3702666  1209224886029312001  TimothyBuffett  ...            14           4\n",
              "\n",
              "[11 rows x 9 columns]"
            ]
          },
          "metadata": {
            "tags": []
          },
          "execution_count": 26
        }
      ]
    },
    {
      "cell_type": "code",
      "metadata": {
        "colab": {
          "base_uri": "https://localhost:8080/"
        },
        "id": "hoQ_0SYJDxYs",
        "outputId": "0737d8f3-c7dc-4441-8c2a-397f34a68c71"
      },
      "source": [
        "len(data_tweet.loc[data_tweet['body_length']>280])"
      ],
      "execution_count": 56,
      "outputs": [
        {
          "output_type": "execute_result",
          "data": {
            "text/plain": [
              "72473"
            ]
          },
          "metadata": {
            "tags": []
          },
          "execution_count": 56
        }
      ]
    },
    {
      "cell_type": "code",
      "metadata": {
        "colab": {
          "base_uri": "https://localhost:8080/",
          "height": 999
        },
        "id": "qopoowspDM9p",
        "outputId": "eb3ccee5-e933-4b38-dcf8-99309a8a55d2"
      },
      "source": [
        "data_tweet.loc[data_tweet['body_length']>280]"
      ],
      "execution_count": 55,
      "outputs": [
        {
          "output_type": "execute_result",
          "data": {
            "text/html": [
              "<div>\n",
              "<style scoped>\n",
              "    .dataframe tbody tr th:only-of-type {\n",
              "        vertical-align: middle;\n",
              "    }\n",
              "\n",
              "    .dataframe tbody tr th {\n",
              "        vertical-align: top;\n",
              "    }\n",
              "\n",
              "    .dataframe thead th {\n",
              "        text-align: right;\n",
              "    }\n",
              "</style>\n",
              "<table border=\"1\" class=\"dataframe\">\n",
              "  <thead>\n",
              "    <tr style=\"text-align: right;\">\n",
              "      <th></th>\n",
              "      <th>tweet_id</th>\n",
              "      <th>writer</th>\n",
              "      <th>post_date</th>\n",
              "      <th>body</th>\n",
              "      <th>comment_num</th>\n",
              "      <th>retweet_num</th>\n",
              "      <th>like_num</th>\n",
              "      <th>writer_length</th>\n",
              "      <th>body_length</th>\n",
              "    </tr>\n",
              "  </thead>\n",
              "  <tbody>\n",
              "    <tr>\n",
              "      <th>354</th>\n",
              "      <td>550697726673821696</td>\n",
              "      <td>MartyMorua</td>\n",
              "      <td>2015-01-01</td>\n",
              "      <td>$GOOG - Many see this as a #BullFlag. I wee heaviness. Previous days action was BEARISH http://scharts.co/175ZTec http://stockcharts.com/php2/lib/sharing/twitter.php?cpath=http%3A%2F%2Fscharts.co%2F175ZTec&amp;cipath=http%3A%2F%2Fstockcharts.com%2Fc-sc%2Fsc%3Fs%3DGOOG%26p%3DD%26yr%3D0%26mn%3D6%26dy%3D0%26i%3Dt19126558773&amp;sym=GOOG…</td>\n",
              "      <td>0</td>\n",
              "      <td>0</td>\n",
              "      <td>0</td>\n",
              "      <td>10</td>\n",
              "      <td>328</td>\n",
              "    </tr>\n",
              "    <tr>\n",
              "      <th>371</th>\n",
              "      <td>550703320709357568</td>\n",
              "      <td>MartyMorua</td>\n",
              "      <td>2015-01-01</td>\n",
              "      <td>$TSLA - If you trade this, you should follow #Elon Musk. Read his articles. #Study! http://scharts.co/1Bl4X7F http://stockcharts.com/php2/lib/sharing/twitter.php?cpath=http%3A%2F%2Fscharts.co%2F1Bl4X7F&amp;cipath=http%3A%2F%2Fstockcharts.com%2Fc-sc%2Fsc%3Fs%3DTSLA%26p%3DD%26yr%3D0%26mn%3D6%26dy%3D0%26i%3Dt84933202758&amp;sym=TSLA…</td>\n",
              "      <td>0</td>\n",
              "      <td>0</td>\n",
              "      <td>1</td>\n",
              "      <td>10</td>\n",
              "      <td>324</td>\n",
              "    </tr>\n",
              "    <tr>\n",
              "      <th>819</th>\n",
              "      <td>550993684725260289</td>\n",
              "      <td>MartyMorua</td>\n",
              "      <td>2015-01-02</td>\n",
              "      <td>$GOOG - Many see this as a #BullFlag. I wee heaviness. Previous days action was BEARISH http://scharts.co/175ZTec http://stockcharts.com/php2/lib/sharing/twitter.php?cpath=http://scharts.co/175ZTec&amp;cipath=http://stockcharts.com/c-sc/sc?s=GOOG&amp;p=D&amp;yr=0&amp;mn=6&amp;dy=0&amp;i=t19126558773&amp;sym=GOOG…</td>\n",
              "      <td>0</td>\n",
              "      <td>0</td>\n",
              "      <td>0</td>\n",
              "      <td>10</td>\n",
              "      <td>286</td>\n",
              "    </tr>\n",
              "    <tr>\n",
              "      <th>829</th>\n",
              "      <td>550997480444542976</td>\n",
              "      <td>MartyMorua</td>\n",
              "      <td>2015-01-02</td>\n",
              "      <td>$AAPL - When I was actively trading, I NEVER thought stocks would hit the 200 DMA. Careful http://scharts.co/1BkZKgc http://stockcharts.com/php2/lib/sharing/twitter.php?cpath=http://scharts.co/1BkZKgc&amp;cipath=http://stockcharts.com/c-sc/sc?s=AAPL&amp;p=D&amp;b=5&amp;g=0&amp;i=t07894436475&amp;sym=AAPL…</td>\n",
              "      <td>0</td>\n",
              "      <td>0</td>\n",
              "      <td>0</td>\n",
              "      <td>10</td>\n",
              "      <td>282</td>\n",
              "    </tr>\n",
              "    <tr>\n",
              "      <th>834</th>\n",
              "      <td>550998720700235777</td>\n",
              "      <td>MartyMorua</td>\n",
              "      <td>2015-01-02</td>\n",
              "      <td>$TSLA - If you trade this, you should follow #Elon Musk. Read his articles. #Study! http://scharts.co/1Bl4X7F http://stockcharts.com/php2/lib/sharing/twitter.php?cpath=http://scharts.co/1Bl4X7F&amp;cipath=http://stockcharts.com/c-sc/sc?s=TSLA&amp;p=D&amp;yr=0&amp;mn=6&amp;dy=0&amp;i=t84933202758&amp;sym=TSLA…</td>\n",
              "      <td>0</td>\n",
              "      <td>0</td>\n",
              "      <td>0</td>\n",
              "      <td>10</td>\n",
              "      <td>282</td>\n",
              "    </tr>\n",
              "    <tr>\n",
              "      <th>...</th>\n",
              "      <td>...</td>\n",
              "      <td>...</td>\n",
              "      <td>...</td>\n",
              "      <td>...</td>\n",
              "      <td>...</td>\n",
              "      <td>...</td>\n",
              "      <td>...</td>\n",
              "      <td>...</td>\n",
              "      <td>...</td>\n",
              "    </tr>\n",
              "    <tr>\n",
              "      <th>3717912</th>\n",
              "      <td>1212144984415031296</td>\n",
              "      <td>AjTrader7</td>\n",
              "      <td>2019-12-31</td>\n",
              "      <td>IN TODAY'S PRE-MARKET NOTES BEFORE THE OPEN FOR 12/31/2019$TSLATHIS WAS GAPING DOWN QUITE A BIT THIS MORNING, SO I CALLED FOR LONG AT $406 WITH ROOM TO ADD ON ANY PULLBACK, WANTED THE STOCK TO SHORT COVER SQUEEZE TO $410+STOCK RAN ALL THE WAY TO $421+https://awesomecallstrading.com/pre-market-game-plan-by-aj-12-31-19/…</td>\n",
              "      <td>0</td>\n",
              "      <td>0</td>\n",
              "      <td>1</td>\n",
              "      <td>9</td>\n",
              "      <td>320</td>\n",
              "    </tr>\n",
              "    <tr>\n",
              "      <th>3717914</th>\n",
              "      <td>1212145228406067200</td>\n",
              "      <td>AjTrader7</td>\n",
              "      <td>2019-12-31</td>\n",
              "      <td>IN TODAY'S PRE-MARKET NOTES BEFORE THE OPEN FOR 12/31/2019$ROKULIKE $TSLA, I SAW THIS GAPING DOWN -3 POINTS, SO I TOLD THE TRADERS IN CHAT, GO LONG ANYTHING AT $127 IN FRONT OF IT, ADD ON DIPS TO $125 PULL AT THE OPEN, LOOK FOR A SOLID RIP TO $130+https://awesomecallstrading.com/pre-market-game-plan-by-aj-12-31-19/…</td>\n",
              "      <td>0</td>\n",
              "      <td>0</td>\n",
              "      <td>2</td>\n",
              "      <td>9</td>\n",
              "      <td>317</td>\n",
              "    </tr>\n",
              "    <tr>\n",
              "      <th>3717934</th>\n",
              "      <td>1212152718640472064</td>\n",
              "      <td>decampkev</td>\n",
              "      <td>2019-12-31</td>\n",
              "      <td>Most bulls understand that quite well. In fact, this is PRECISELY the reason the OEMS are so far behind. Classic innovators dilemma: https://valuewalk.com/2019/07/tesla-lead-integration-of-hardware-and-software/…$TSLAQ doesn’t understand that EVs AT SCALE can be more profitable than ICE especially when you can sell software $TSLA</td>\n",
              "      <td>1</td>\n",
              "      <td>0</td>\n",
              "      <td>3</td>\n",
              "      <td>9</td>\n",
              "      <td>331</td>\n",
              "    </tr>\n",
              "    <tr>\n",
              "      <th>3717948</th>\n",
              "      <td>1212156461419249665</td>\n",
              "      <td>tanthallas</td>\n",
              "      <td>2019-12-31</td>\n",
              "      <td>Current Affairs presents to you for the first time—and probably not the last—our new annual tradition: the Griftie Awards.Griftie winners were chosen by ⁦@lyta_gold⁩ and the distinguished Academy of Confidence Arts and Scammer Sciences. https://currentaffairs.org/2019/12/presenting-the-2019-griftie-awards…</td>\n",
              "      <td>0</td>\n",
              "      <td>0</td>\n",
              "      <td>0</td>\n",
              "      <td>10</td>\n",
              "      <td>307</td>\n",
              "    </tr>\n",
              "    <tr>\n",
              "      <th>3717949</th>\n",
              "      <td>1212156775178416128</td>\n",
              "      <td>ITRADEVOL</td>\n",
              "      <td>2019-12-31</td>\n",
              "      <td>Is there a public database or website where I can query stocks like $AMZN and $TSLA for example that have certain features, such as a certain price and volatility? https://quora.com/Is-there-a-public-database-or-website-where-I-can-query-stocks-that-have-certain-features-such-as-a-certain-price-and-volatility/answer/Market-Chameleon…   #quantitativeanalysis #volatility   #optionstrading #riskmanagement #bullish #option</td>\n",
              "      <td>0</td>\n",
              "      <td>0</td>\n",
              "      <td>2</td>\n",
              "      <td>9</td>\n",
              "      <td>422</td>\n",
              "    </tr>\n",
              "  </tbody>\n",
              "</table>\n",
              "<p>72473 rows × 9 columns</p>\n",
              "</div>"
            ],
            "text/plain": [
              "                    tweet_id      writer  ... writer_length body_length\n",
              "354       550697726673821696  MartyMorua  ...            10         328\n",
              "371       550703320709357568  MartyMorua  ...            10         324\n",
              "819       550993684725260289  MartyMorua  ...            10         286\n",
              "829       550997480444542976  MartyMorua  ...            10         282\n",
              "834       550998720700235777  MartyMorua  ...            10         282\n",
              "...                      ...         ...  ...           ...         ...\n",
              "3717912  1212144984415031296   AjTrader7  ...             9         320\n",
              "3717914  1212145228406067200   AjTrader7  ...             9         317\n",
              "3717934  1212152718640472064   decampkev  ...             9         331\n",
              "3717948  1212156461419249665  tanthallas  ...            10         307\n",
              "3717949  1212156775178416128   ITRADEVOL  ...             9         422\n",
              "\n",
              "[72473 rows x 9 columns]"
            ]
          },
          "metadata": {
            "tags": []
          },
          "execution_count": 55
        }
      ]
    },
    {
      "cell_type": "code",
      "metadata": {
        "colab": {
          "base_uri": "https://localhost:8080/",
          "height": 317
        },
        "id": "zvK2FmJQdn8n",
        "outputId": "8d490dee-404f-452b-ef46-707e4ccafc5e"
      },
      "source": [
        "data_tweet.hist(column = ['comment_num'])"
      ],
      "execution_count": 27,
      "outputs": [
        {
          "output_type": "execute_result",
          "data": {
            "text/plain": [
              "array([[<matplotlib.axes._subplots.AxesSubplot object at 0x7fdb0cca7c50>]],\n",
              "      dtype=object)"
            ]
          },
          "metadata": {
            "tags": []
          },
          "execution_count": 27
        },
        {
          "output_type": "display_data",
          "data": {
            "image/png": "[encoded data removed]",
            "text/plain": [
              "<Figure size 432x288 with 1 Axes>"
            ]
          },
          "metadata": {
            "tags": [],
            "needs_background": "light"
          }
        }
      ]
    },
    {
      "cell_type": "code",
      "metadata": {
        "colab": {
          "base_uri": "https://localhost:8080/",
          "height": 248
        },
        "id": "G-ppqf9MfQIT",
        "outputId": "e9e8d131-56be-4566-b7d0-345164df10ce"
      },
      "source": [
        "data_tweet[data_tweet.comment_num>500].sort_values(by='comment_num', ascending=False)"
      ],
      "execution_count": 28,
      "outputs": [
        {
          "output_type": "execute_result",
          "data": {
            "text/html": [
              "<div>\n",
              "<style scoped>\n",
              "    .dataframe tbody tr th:only-of-type {\n",
              "        vertical-align: middle;\n",
              "    }\n",
              "\n",
              "    .dataframe tbody tr th {\n",
              "        vertical-align: top;\n",
              "    }\n",
              "\n",
              "    .dataframe thead th {\n",
              "        text-align: right;\n",
              "    }\n",
              "</style>\n",
              "<table border=\"1\" class=\"dataframe\">\n",
              "  <thead>\n",
              "    <tr style=\"text-align: right;\">\n",
              "      <th></th>\n",
              "      <th>tweet_id</th>\n",
              "      <th>writer</th>\n",
              "      <th>post_date</th>\n",
              "      <th>body</th>\n",
              "      <th>comment_num</th>\n",
              "      <th>retweet_num</th>\n",
              "      <th>like_num</th>\n",
              "      <th>writer_length</th>\n",
              "      <th>body_length</th>\n",
              "    </tr>\n",
              "  </thead>\n",
              "  <tbody>\n",
              "    <tr>\n",
              "      <th>2522386</th>\n",
              "      <td>1014983757252780033</td>\n",
              "      <td>lopezlinette</td>\n",
              "      <td>2018-07-05</td>\n",
              "      <td>I’d just like to point out that right now, right this very moment, @elonmusk is going through my Facebook history and screen grabbing things to share with his friends on the internet... if you’re investing in Tesla or in a Tesla you need to sit with that. $TSLA</td>\n",
              "      <td>631</td>\n",
              "      <td>369</td>\n",
              "      <td>0</td>\n",
              "      <td>12</td>\n",
              "      <td>261</td>\n",
              "    </tr>\n",
              "    <tr>\n",
              "      <th>3223449</th>\n",
              "      <td>1118989675257978880</td>\n",
              "      <td>GerberKawasaki</td>\n",
              "      <td>2019-04-18</td>\n",
              "      <td>If a Tesla saves you $200 a month on gas, you own it for ten years. You take the savings and put it in a balanced fund each month. How much money do you have at the end? (hint: it's the cost of the car) #Teslamodel3 $TSLA</td>\n",
              "      <td>567</td>\n",
              "      <td>0</td>\n",
              "      <td>0</td>\n",
              "      <td>14</td>\n",
              "      <td>221</td>\n",
              "    </tr>\n",
              "    <tr>\n",
              "      <th>3656256</th>\n",
              "      <td>1199424478536753155</td>\n",
              "      <td>AlexSibila</td>\n",
              "      <td>2019-11-26</td>\n",
              "      <td>~Tesla feature request thread~Feel free to reply with your own, I'll continue to add to it as I think of them.#Tesla $TSLA @Tesla @elonmusk</td>\n",
              "      <td>563</td>\n",
              "      <td>48</td>\n",
              "      <td>662</td>\n",
              "      <td>10</td>\n",
              "      <td>139</td>\n",
              "    </tr>\n",
              "  </tbody>\n",
              "</table>\n",
              "</div>"
            ],
            "text/plain": [
              "                    tweet_id          writer  ... writer_length body_length\n",
              "2522386  1014983757252780033    lopezlinette  ...            12         261\n",
              "3223449  1118989675257978880  GerberKawasaki  ...            14         221\n",
              "3656256  1199424478536753155      AlexSibila  ...            10         139\n",
              "\n",
              "[3 rows x 9 columns]"
            ]
          },
          "metadata": {
            "tags": []
          },
          "execution_count": 28
        }
      ]
    },
    {
      "cell_type": "code",
      "metadata": {
        "colab": {
          "base_uri": "https://localhost:8080/",
          "height": 317
        },
        "id": "ohSjCHsFdv2q",
        "outputId": "f637846f-c18a-4826-9e19-0f8fa9abbd51"
      },
      "source": [
        "data_tweet.hist(column = ['like_num'])"
      ],
      "execution_count": 29,
      "outputs": [
        {
          "output_type": "execute_result",
          "data": {
            "text/plain": [
              "array([[<matplotlib.axes._subplots.AxesSubplot object at 0x7fdadeaa8a90>]],\n",
              "      dtype=object)"
            ]
          },
          "metadata": {
            "tags": []
          },
          "execution_count": 29
        },
        {
          "output_type": "display_data",
          "data": {
            "image/png": "[encoded data removed]",
            "text/plain": [
              "<Figure size 432x288 with 1 Axes>"
            ]
          },
          "metadata": {
            "tags": [],
            "needs_background": "light"
          }
        }
      ]
    },
    {
      "cell_type": "code",
      "metadata": {
        "colab": {
          "base_uri": "https://localhost:8080/",
          "height": 345
        },
        "id": "ccXsNlB5fJFF",
        "outputId": "7d76ff3d-6c89-4806-b137-4d10bf2fb553"
      },
      "source": [
        "data_tweet[data_tweet.like_num>980].sort_values(by='like_num', ascending=False)"
      ],
      "execution_count": 30,
      "outputs": [
        {
          "output_type": "execute_result",
          "data": {
            "text/html": [
              "<div>\n",
              "<style scoped>\n",
              "    .dataframe tbody tr th:only-of-type {\n",
              "        vertical-align: middle;\n",
              "    }\n",
              "\n",
              "    .dataframe tbody tr th {\n",
              "        vertical-align: top;\n",
              "    }\n",
              "\n",
              "    .dataframe thead th {\n",
              "        text-align: right;\n",
              "    }\n",
              "</style>\n",
              "<table border=\"1\" class=\"dataframe\">\n",
              "  <thead>\n",
              "    <tr style=\"text-align: right;\">\n",
              "      <th></th>\n",
              "      <th>tweet_id</th>\n",
              "      <th>writer</th>\n",
              "      <th>post_date</th>\n",
              "      <th>body</th>\n",
              "      <th>comment_num</th>\n",
              "      <th>retweet_num</th>\n",
              "      <th>like_num</th>\n",
              "      <th>writer_length</th>\n",
              "      <th>body_length</th>\n",
              "    </tr>\n",
              "  </thead>\n",
              "  <tbody>\n",
              "    <tr>\n",
              "      <th>2403478</th>\n",
              "      <td>992113509742858240</td>\n",
              "      <td>llsethj</td>\n",
              "      <td>2018-05-03</td>\n",
              "      <td>Nice of @elonmusk to create a buying opportunity for long $TSLA folks</td>\n",
              "      <td>29</td>\n",
              "      <td>71</td>\n",
              "      <td>999</td>\n",
              "      <td>7</td>\n",
              "      <td>69</td>\n",
              "    </tr>\n",
              "    <tr>\n",
              "      <th>2973746</th>\n",
              "      <td>1081601704347557888</td>\n",
              "      <td>BSA19741</td>\n",
              "      <td>2019-01-05</td>\n",
              "      <td>Popular Science 1952 pulp fiction. Everything old is new again. $tsla</td>\n",
              "      <td>20</td>\n",
              "      <td>89</td>\n",
              "      <td>995</td>\n",
              "      <td>8</td>\n",
              "      <td>69</td>\n",
              "    </tr>\n",
              "    <tr>\n",
              "      <th>3544085</th>\n",
              "      <td>1178750580564660224</td>\n",
              "      <td>TeslaNY</td>\n",
              "      <td>2019-09-30</td>\n",
              "      <td>Tesla Model S Is The US' New Dream Car  “...top ‘dream car’ for American drivers in 20 states,” https://insideevs.com/news/373374/tesla-model-s-dream-car/… $TSLA #Tesla #EV</td>\n",
              "      <td>46</td>\n",
              "      <td>117</td>\n",
              "      <td>987</td>\n",
              "      <td>7</td>\n",
              "      <td>172</td>\n",
              "    </tr>\n",
              "    <tr>\n",
              "      <th>3544446</th>\n",
              "      <td>1178798595945820160</td>\n",
              "      <td>S_Padival</td>\n",
              "      <td>2019-09-30</td>\n",
              "      <td>Then why is your media company so anti-@tesla?  @elonmusk even commented on it @ shrhldr meet. I have seen enough evidence to conclude that @business is actively encouraging its reporters like @liamdenning , @josheidelson , @danahull &amp; @ZekeFaux to write hit pieces on $TSLA</td>\n",
              "      <td>34</td>\n",
              "      <td>88</td>\n",
              "      <td>987</td>\n",
              "      <td>9</td>\n",
              "      <td>274</td>\n",
              "    </tr>\n",
              "    <tr>\n",
              "      <th>2550763</th>\n",
              "      <td>1020077355346169857</td>\n",
              "      <td>vincent13031925</td>\n",
              "      <td>2018-07-19</td>\n",
              "      <td>Tesla Spokesperson, Regarding The Earlier Needham Downgrade Note, Say \"The Notion That Model 3 Cancellations Are Outpacing Orders Is Unequivocally False\"Are you sick of Tesla FUD?! Please Like and Retweet to stop Tesla FUD !! $TSLA @elonmusk @bonnienorman @Jason @scottwww</td>\n",
              "      <td>38</td>\n",
              "      <td>256</td>\n",
              "      <td>986</td>\n",
              "      <td>15</td>\n",
              "      <td>272</td>\n",
              "    </tr>\n",
              "  </tbody>\n",
              "</table>\n",
              "</div>"
            ],
            "text/plain": [
              "                    tweet_id           writer  ... writer_length body_length\n",
              "2403478   992113509742858240          llsethj  ...             7          69\n",
              "2973746  1081601704347557888         BSA19741  ...             8          69\n",
              "3544085  1178750580564660224          TeslaNY  ...             7         172\n",
              "3544446  1178798595945820160        S_Padival  ...             9         274\n",
              "2550763  1020077355346169857  vincent13031925  ...            15         272\n",
              "\n",
              "[5 rows x 9 columns]"
            ]
          },
          "metadata": {
            "tags": []
          },
          "execution_count": 30
        }
      ]
    },
    {
      "cell_type": "code",
      "metadata": {
        "colab": {
          "base_uri": "https://localhost:8080/",
          "height": 317
        },
        "id": "CPEqioFLdwKE",
        "outputId": "1fa8696f-e658-471d-962a-7c4f2e98af1f"
      },
      "source": [
        "data_tweet.hist(column = ['retweet_num'],bins=10)"
      ],
      "execution_count": 51,
      "outputs": [
        {
          "output_type": "execute_result",
          "data": {
            "text/plain": [
              "array([[<matplotlib.axes._subplots.AxesSubplot object at 0x7fdb0981fb10>]],\n",
              "      dtype=object)"
            ]
          },
          "metadata": {
            "tags": []
          },
          "execution_count": 51
        },
        {
          "output_type": "display_data",
          "data": {
            "image/png": "[encoded data removed]",
            "text/plain": [
              "<Figure size 432x288 with 1 Axes>"
            ]
          },
          "metadata": {
            "tags": [],
            "needs_background": "light"
          }
        }
      ]
    },
    {
      "cell_type": "code",
      "metadata": {
        "colab": {
          "base_uri": "https://localhost:8080/",
          "height": 279
        },
        "id": "jBoF74Gqee-w",
        "outputId": "a657ea3a-78fd-4e37-d28b-fd0b0b38f05d"
      },
      "source": [
        "data_tweet[data_tweet.retweet_num>990].sort_values(by='retweet_num', ascending=False)"
      ],
      "execution_count": 32,
      "outputs": [
        {
          "output_type": "execute_result",
          "data": {
            "text/html": [
              "<div>\n",
              "<style scoped>\n",
              "    .dataframe tbody tr th:only-of-type {\n",
              "        vertical-align: middle;\n",
              "    }\n",
              "\n",
              "    .dataframe tbody tr th {\n",
              "        vertical-align: top;\n",
              "    }\n",
              "\n",
              "    .dataframe thead th {\n",
              "        text-align: right;\n",
              "    }\n",
              "</style>\n",
              "<table border=\"1\" class=\"dataframe\">\n",
              "  <thead>\n",
              "    <tr style=\"text-align: right;\">\n",
              "      <th></th>\n",
              "      <th>tweet_id</th>\n",
              "      <th>writer</th>\n",
              "      <th>post_date</th>\n",
              "      <th>body</th>\n",
              "      <th>comment_num</th>\n",
              "      <th>retweet_num</th>\n",
              "      <th>like_num</th>\n",
              "      <th>writer_length</th>\n",
              "      <th>body_length</th>\n",
              "    </tr>\n",
              "  </thead>\n",
              "  <tbody>\n",
              "    <tr>\n",
              "      <th>545177</th>\n",
              "      <td>642317350457450496</td>\n",
              "      <td>philstockworld</td>\n",
              "      <td>2015-09-11</td>\n",
              "      <td>Thank God We're in CASH!!! $AAPL #Apple $TZA $GS #Oil #Hedging #PortfolioManagement -- http://philstockworld.com/2015/09/11/tgif-thank-god-were-in-cash/…</td>\n",
              "      <td>0</td>\n",
              "      <td>999</td>\n",
              "      <td>157</td>\n",
              "      <td>14</td>\n",
              "      <td>153</td>\n",
              "    </tr>\n",
              "    <tr>\n",
              "      <th>740507</th>\n",
              "      <td>685205321443196928</td>\n",
              "      <td>iSPYTrading</td>\n",
              "      <td>2016-01-07</td>\n",
              "      <td>$SPY 1-7-16 Full Day #TapeReading What a day.. $AAPL $VXX $GPRO</td>\n",
              "      <td>1</td>\n",
              "      <td>999</td>\n",
              "      <td>112</td>\n",
              "      <td>11</td>\n",
              "      <td>63</td>\n",
              "    </tr>\n",
              "    <tr>\n",
              "      <th>772218</th>\n",
              "      <td>692350977580666882</td>\n",
              "      <td>philstockworld</td>\n",
              "      <td>2016-01-27</td>\n",
              "      <td>Which Way Wednesday - Waiting on the Fed $AAPL $BA $UCO $IWM #FuturesTrading #Webinar -- http://philstockworld.com/2016/01/27/which-way-wednesday-waiting-on-the-fed-3/…</td>\n",
              "      <td>1</td>\n",
              "      <td>998</td>\n",
              "      <td>135</td>\n",
              "      <td>14</td>\n",
              "      <td>168</td>\n",
              "    </tr>\n",
              "    <tr>\n",
              "      <th>2052216</th>\n",
              "      <td>913035172114780160</td>\n",
              "      <td>philstockworld</td>\n",
              "      <td>2017-09-27</td>\n",
              "      <td>Which Way Wednesday - How Durable Is the Economy? $SPY $AMZN $WMT $T $GE @Nasdaq @jillmalandrino -- http://philstockworld.com/2017/09/27/which-way-wednesday-how-durable-is-the-economy/…</td>\n",
              "      <td>0</td>\n",
              "      <td>995</td>\n",
              "      <td>2</td>\n",
              "      <td>14</td>\n",
              "      <td>185</td>\n",
              "    </tr>\n",
              "  </tbody>\n",
              "</table>\n",
              "</div>"
            ],
            "text/plain": [
              "                   tweet_id          writer  ... writer_length body_length\n",
              "545177   642317350457450496  philstockworld  ...            14         153\n",
              "740507   685205321443196928     iSPYTrading  ...            11          63\n",
              "772218   692350977580666882  philstockworld  ...            14         168\n",
              "2052216  913035172114780160  philstockworld  ...            14         185\n",
              "\n",
              "[4 rows x 9 columns]"
            ]
          },
          "metadata": {
            "tags": []
          },
          "execution_count": 32
        }
      ]
    },
    {
      "cell_type": "code",
      "metadata": {
        "colab": {
          "base_uri": "https://localhost:8080/"
        },
        "id": "N6Q_NQ52hRly",
        "outputId": "77453dfc-3cd3-4691-cdb1-b6330ce2ccb7"
      },
      "source": [
        "datasets=[data_stocks, data_tweet, data_company, data_mentions]\n",
        "for dataset in datasets:\n",
        "  print(dataset.isnull().sum())"
      ],
      "execution_count": 54,
      "outputs": [
        {
          "output_type": "stream",
          "text": [
            "ticker            0\n",
            "date              0\n",
            "volume            0\n",
            "diff_openclose    0\n",
            "diff_highlow      0\n",
            "string_length     0\n",
            "dtype: int64\n",
            "tweet_id         0\n",
            "writer           0\n",
            "post_date        0\n",
            "body             0\n",
            "comment_num      0\n",
            "retweet_num      0\n",
            "like_num         0\n",
            "writer_length    0\n",
            "body_length      0\n",
            "dtype: int64\n",
            "ticker           0\n",
            "name             0\n",
            "ticker_length    0\n",
            "name_length      0\n",
            "dtype: int64\n",
            "tweet_id    0\n",
            "ticker      0\n",
            "dtype: int64\n"
          ],
          "name": "stdout"
        }
      ]
    }
  ]
}