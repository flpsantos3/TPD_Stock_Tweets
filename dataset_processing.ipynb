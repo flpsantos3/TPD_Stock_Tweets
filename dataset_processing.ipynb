{
 "cells": [
  {
   "cell_type": "code",
   "execution_count": 2,
   "metadata": {},
   "outputs": [],
   "source": [
    "import pandas as pd"
   ]
  },
  {
   "cell_type": "markdown",
   "metadata": {},
   "source": [
    "+ **Tweets**: company_tweet and tweet files need to be smaller;\n",
    "+ **Stocks**: only TSLA, AMZN, GOOGL, AAPL and FB should be kept."
   ]
  },
  {
   "cell_type": "markdown",
   "metadata": {},
   "source": [
    "# Tweets"
   ]
  },
  {
   "cell_type": "code",
   "execution_count": 3,
   "metadata": {},
   "outputs": [],
   "source": [
    "file1=r\"datasets\\tweets\\Tweet.csv\"\n",
    "file2=r\"datasets\\tweets\\Company_Tweet.csv\""
   ]
  },
  {
   "cell_type": "code",
   "execution_count": 4,
   "metadata": {},
   "outputs": [
    {
     "data": {
      "text/plain": [
       "Index(['tweet_id', 'writer', 'post_date', 'body', 'comment_num', 'retweet_num',\n",
       "       'like_num'],\n",
       "      dtype='object')"
      ]
     },
     "execution_count": 4,
     "metadata": {},
     "output_type": "execute_result"
    }
   ],
   "source": [
    "test_df=pd.read_csv(file1, nrows=5)\n",
    "test_df.columns"
   ]
  },
  {
   "cell_type": "code",
   "execution_count": 5,
   "metadata": {},
   "outputs": [
    {
     "data": {
      "text/plain": [
       "Index(['tweet_id', 'ticker_symbol'], dtype='object')"
      ]
     },
     "execution_count": 5,
     "metadata": {},
     "output_type": "execute_result"
    }
   ],
   "source": [
    "test_df=pd.read_csv(file2, nrows=5)\n",
    "test_df.columns"
   ]
  },
  {
   "cell_type": "code",
   "execution_count": 6,
   "metadata": {},
   "outputs": [
    {
     "name": "stdout",
     "output_type": "stream",
     "text": [
      "All done! 10 files were created.\n"
     ]
    }
   ],
   "source": [
    "#chunk_size=400000\n",
    "#batch_no=0\n",
    "#for chunk in pd.read_csv(file1, chunksize=chunk_size):\n",
    "#    batch_no+=1\n",
    "#    chunk.to_csv(r'datasets\\tweets\\Tweet\\Tweet_' + str(batch_no) + '.csv', index=False)\n",
    "#    \n",
    "#print('All done!', batch_no-1, 'files were created.')"
   ]
  },
  {
   "cell_type": "code",
   "execution_count": 24,
   "metadata": {},
   "outputs": [
    {
     "name": "stdout",
     "output_type": "stream",
     "text": [
      "All done! 2 files were created.\n"
     ]
    }
   ],
   "source": [
    "#chunk_size=3000000\n",
    "#batch_no=0\n",
    "#for chunk in pd.read_csv(file2, chunksize=chunk_size):\n",
    "#    batch_no+=1\n",
    "#    chunk.to_csv(r'datasets\\tweets\\Company_Tweet\\Company_Tweet_' + str(batch_no) + '.csv', index=False)\n",
    "#    \n",
    "#print('All done!', batch_no-1, 'files were created.')"
   ]
  },
  {
   "cell_type": "markdown",
   "metadata": {},
   "source": [
    "# Stocks"
   ]
  },
  {
   "cell_type": "code",
   "execution_count": 24,
   "metadata": {},
   "outputs": [],
   "source": [
    "file=r\"datasets/nasdaq/nasdaq_historical_prices_daily/nasdaq_historical_prices_daily.csv\""
   ]
  },
  {
   "cell_type": "code",
   "execution_count": 25,
   "metadata": {},
   "outputs": [
    {
     "data": {
      "text/plain": [
       "Index(['ticker', 'date', 'open', 'high', 'low', 'close', 'volume'], dtype='object')"
      ]
     },
     "execution_count": 25,
     "metadata": {},
     "output_type": "execute_result"
    }
   ],
   "source": [
    "test_df=pd.read_csv(file, nrows=5)\n",
    "test_df.columns"
   ]
  },
  {
   "cell_type": "code",
   "execution_count": 29,
   "metadata": {},
   "outputs": [
    {
     "name": "stdout",
     "output_type": "stream",
     "text": [
      "All done! 9 files were created.\n"
     ]
    }
   ],
   "source": [
    "chunk_size=2000000\n",
    "batch_no=0\n",
    "for chunk in pd.read_csv(file, chunksize=chunk_size):\n",
    "    batch_no+=1\n",
    "    chunk.to_csv(r'datasets\\nasdaq\\nasdaq_historical_prices_daily\\datachunks\\nasdaq_' + str(batch_no) + '.csv', \n",
    "                 index=False)\n",
    "    \n",
    "print('All done!', batch_no, 'files were created.')"
   ]
  },
  {
   "cell_type": "code",
   "execution_count": 32,
   "metadata": {},
   "outputs": [],
   "source": [
    "#df1=pd.read_csv(r'datasets\\nasdaq\\nasdaq_historical_prices_daily\\datachunks\\nasdaq_1.csv')\n",
    "#df2=pd.read_csv(r'datasets\\nasdaq\\nasdaq_historical_prices_daily\\datachunks\\nasdaq_2.csv')\n",
    "#df3=pd.read_csv(r'datasets\\nasdaq\\nasdaq_historical_prices_daily\\datachunks\\nasdaq_3.csv')\n",
    "#df4=pd.read_csv(r'datasets\\nasdaq\\nasdaq_historical_prices_daily\\datachunks\\nasdaq_4.csv')\n",
    "#df5=pd.read_csv(r'datasets\\nasdaq\\nasdaq_historical_prices_daily\\datachunks\\nasdaq_5.csv')\n",
    "#df6=pd.read_csv(r'datasets\\nasdaq\\nasdaq_historical_prices_daily\\datachunks\\nasdaq_6.csv')\n",
    "#df7=pd.read_csv(r'datasets\\nasdaq\\nasdaq_historical_prices_daily\\datachunks\\nasdaq_7.csv')\n",
    "#df8=pd.read_csv(r'datasets\\nasdaq\\nasdaq_historical_prices_daily\\datachunks\\nasdaq_8.csv')\n",
    "#df9=pd.read_csv(r'datasets\\nasdaq\\nasdaq_historical_prices_daily\\datachunks\\nasdaq_9.csv')"
   ]
  },
  {
   "cell_type": "code",
   "execution_count": 41,
   "metadata": {},
   "outputs": [
    {
     "data": {
      "text/plain": [
       "[0, 1, 2, 3, 4]"
      ]
     },
     "execution_count": 41,
     "metadata": {},
     "output_type": "execute_result"
    }
   ],
   "source": [
    "appl_df1=[]\n",
    "for i in df1.index:\n",
    "    if df1['ticker'][i]=='AAPL':\n",
    "        appl_df1.append(i)\n",
    "        \n",
    "appl_df1[:5]"
   ]
  },
  {
   "cell_type": "code",
   "execution_count": 42,
   "metadata": {},
   "outputs": [
    {
     "data": {
      "text/plain": [
       "5033"
      ]
     },
     "execution_count": 42,
     "metadata": {},
     "output_type": "execute_result"
    }
   ],
   "source": [
    "len(appl_df1)"
   ]
  },
  {
   "cell_type": "code",
   "execution_count": 55,
   "metadata": {},
   "outputs": [
    {
     "data": {
      "text/html": [
       "<div>\n",
       "<style scoped>\n",
       "    .dataframe tbody tr th:only-of-type {\n",
       "        vertical-align: middle;\n",
       "    }\n",
       "\n",
       "    .dataframe tbody tr th {\n",
       "        vertical-align: top;\n",
       "    }\n",
       "\n",
       "    .dataframe thead th {\n",
       "        text-align: right;\n",
       "    }\n",
       "</style>\n",
       "<table border=\"1\" class=\"dataframe\">\n",
       "  <thead>\n",
       "    <tr style=\"text-align: right;\">\n",
       "      <th></th>\n",
       "      <th>ticker</th>\n",
       "      <th>date</th>\n",
       "      <th>open</th>\n",
       "      <th>high</th>\n",
       "      <th>low</th>\n",
       "      <th>close</th>\n",
       "      <th>volume</th>\n",
       "    </tr>\n",
       "  </thead>\n",
       "  <tbody>\n",
       "    <tr>\n",
       "      <th>0</th>\n",
       "      <td>AAPL</td>\n",
       "      <td>2020-02-06</td>\n",
       "      <td>322.57</td>\n",
       "      <td>325.22</td>\n",
       "      <td>320.2648</td>\n",
       "      <td>325.21</td>\n",
       "      <td>26214054</td>\n",
       "    </tr>\n",
       "    <tr>\n",
       "      <th>1</th>\n",
       "      <td>AAPL</td>\n",
       "      <td>2020-02-05</td>\n",
       "      <td>323.52</td>\n",
       "      <td>324.76</td>\n",
       "      <td>318.9500</td>\n",
       "      <td>321.45</td>\n",
       "      <td>29384908</td>\n",
       "    </tr>\n",
       "    <tr>\n",
       "      <th>2</th>\n",
       "      <td>AAPL</td>\n",
       "      <td>2020-02-04</td>\n",
       "      <td>315.31</td>\n",
       "      <td>319.64</td>\n",
       "      <td>313.6345</td>\n",
       "      <td>318.85</td>\n",
       "      <td>34154134</td>\n",
       "    </tr>\n",
       "  </tbody>\n",
       "</table>\n",
       "</div>"
      ],
      "text/plain": [
       "  ticker        date    open    high       low   close    volume\n",
       "0   AAPL  2020-02-06  322.57  325.22  320.2648  325.21  26214054\n",
       "1   AAPL  2020-02-05  323.52  324.76  318.9500  321.45  29384908\n",
       "2   AAPL  2020-02-04  315.31  319.64  313.6345  318.85  34154134"
      ]
     },
     "execution_count": 55,
     "metadata": {},
     "output_type": "execute_result"
    }
   ],
   "source": [
    "aapl=df1.iloc[appl_df1]\n",
    "aapl.head(3)"
   ]
  },
  {
   "cell_type": "code",
   "execution_count": 61,
   "metadata": {},
   "outputs": [],
   "source": [
    "aapl.to_csv(r'datasets/nasdaq/AAPL.csv', index=False)"
   ]
  },
  {
   "cell_type": "code",
   "execution_count": 62,
   "metadata": {},
   "outputs": [
    {
     "data": {
      "text/plain": [
       "2419"
      ]
     },
     "execution_count": 62,
     "metadata": {},
     "output_type": "execute_result"
    }
   ],
   "source": [
    "tsla_df1=[]\n",
    "for i in df1.index:\n",
    "    if df1['ticker'][i]=='TSLA':\n",
    "        tsla_df1.append(i)\n",
    "        \n",
    "len(tsla_df1)"
   ]
  },
  {
   "cell_type": "code",
   "execution_count": 63,
   "metadata": {},
   "outputs": [
    {
     "data": {
      "text/html": [
       "<div>\n",
       "<style scoped>\n",
       "    .dataframe tbody tr th:only-of-type {\n",
       "        vertical-align: middle;\n",
       "    }\n",
       "\n",
       "    .dataframe tbody tr th {\n",
       "        vertical-align: top;\n",
       "    }\n",
       "\n",
       "    .dataframe thead th {\n",
       "        text-align: right;\n",
       "    }\n",
       "</style>\n",
       "<table border=\"1\" class=\"dataframe\">\n",
       "  <thead>\n",
       "    <tr style=\"text-align: right;\">\n",
       "      <th></th>\n",
       "      <th>ticker</th>\n",
       "      <th>date</th>\n",
       "      <th>open</th>\n",
       "      <th>high</th>\n",
       "      <th>low</th>\n",
       "      <th>close</th>\n",
       "      <th>volume</th>\n",
       "    </tr>\n",
       "  </thead>\n",
       "  <tbody>\n",
       "    <tr>\n",
       "      <th>245534</th>\n",
       "      <td>TSLA</td>\n",
       "      <td>2020-02-06</td>\n",
       "      <td>699.92</td>\n",
       "      <td>795.8300</td>\n",
       "      <td>687.0000</td>\n",
       "      <td>748.96</td>\n",
       "      <td>39850221</td>\n",
       "    </tr>\n",
       "    <tr>\n",
       "      <th>245535</th>\n",
       "      <td>TSLA</td>\n",
       "      <td>2020-02-05</td>\n",
       "      <td>823.26</td>\n",
       "      <td>845.9800</td>\n",
       "      <td>704.1106</td>\n",
       "      <td>734.70</td>\n",
       "      <td>48128154</td>\n",
       "    </tr>\n",
       "    <tr>\n",
       "      <th>245536</th>\n",
       "      <td>TSLA</td>\n",
       "      <td>2020-02-04</td>\n",
       "      <td>882.96</td>\n",
       "      <td>968.9899</td>\n",
       "      <td>833.8800</td>\n",
       "      <td>887.06</td>\n",
       "      <td>60938758</td>\n",
       "    </tr>\n",
       "  </tbody>\n",
       "</table>\n",
       "</div>"
      ],
      "text/plain": [
       "       ticker        date    open      high       low   close    volume\n",
       "245534   TSLA  2020-02-06  699.92  795.8300  687.0000  748.96  39850221\n",
       "245535   TSLA  2020-02-05  823.26  845.9800  704.1106  734.70  48128154\n",
       "245536   TSLA  2020-02-04  882.96  968.9899  833.8800  887.06  60938758"
      ]
     },
     "execution_count": 63,
     "metadata": {},
     "output_type": "execute_result"
    }
   ],
   "source": [
    "tsla=df1.iloc[tsla_df1]\n",
    "tsla.head(3)"
   ]
  },
  {
   "cell_type": "code",
   "execution_count": 64,
   "metadata": {},
   "outputs": [],
   "source": [
    "tsla.to_csv(r'datasets/nasdaq/TSLA.csv', index=False)"
   ]
  },
  {
   "cell_type": "code",
   "execution_count": 51,
   "metadata": {},
   "outputs": [
    {
     "data": {
      "text/plain": [
       "[15099, 15100, 15101, 15102, 15103]"
      ]
     },
     "execution_count": 51,
     "metadata": {},
     "output_type": "execute_result"
    }
   ],
   "source": [
    "googl_df1=[]\n",
    "for i in df1.index:\n",
    "    if df1['ticker'][i]=='GOOGL':\n",
    "        googl_df1.append(i)\n",
    "        \n",
    "len(googl_df1)"
   ]
  },
  {
   "cell_type": "code",
   "execution_count": 65,
   "metadata": {},
   "outputs": [
    {
     "data": {
      "text/html": [
       "<div>\n",
       "<style scoped>\n",
       "    .dataframe tbody tr th:only-of-type {\n",
       "        vertical-align: middle;\n",
       "    }\n",
       "\n",
       "    .dataframe tbody tr th {\n",
       "        vertical-align: top;\n",
       "    }\n",
       "\n",
       "    .dataframe thead th {\n",
       "        text-align: right;\n",
       "    }\n",
       "</style>\n",
       "<table border=\"1\" class=\"dataframe\">\n",
       "  <thead>\n",
       "    <tr style=\"text-align: right;\">\n",
       "      <th></th>\n",
       "      <th>ticker</th>\n",
       "      <th>date</th>\n",
       "      <th>open</th>\n",
       "      <th>high</th>\n",
       "      <th>low</th>\n",
       "      <th>close</th>\n",
       "      <th>volume</th>\n",
       "    </tr>\n",
       "  </thead>\n",
       "  <tbody>\n",
       "    <tr>\n",
       "      <th>15099</th>\n",
       "      <td>GOOGL</td>\n",
       "      <td>2020-02-06</td>\n",
       "      <td>1451.98</td>\n",
       "      <td>1481.56</td>\n",
       "      <td>1450.48</td>\n",
       "      <td>1475.97</td>\n",
       "      <td>1889369</td>\n",
       "    </tr>\n",
       "    <tr>\n",
       "      <th>15100</th>\n",
       "      <td>GOOGL</td>\n",
       "      <td>2020-02-05</td>\n",
       "      <td>1463.61</td>\n",
       "      <td>1464.58</td>\n",
       "      <td>1429.67</td>\n",
       "      <td>1446.05</td>\n",
       "      <td>1816252</td>\n",
       "    </tr>\n",
       "    <tr>\n",
       "      <th>15101</th>\n",
       "      <td>GOOGL</td>\n",
       "      <td>2020-02-04</td>\n",
       "      <td>1454.49</td>\n",
       "      <td>1467.34</td>\n",
       "      <td>1422.03</td>\n",
       "      <td>1445.41</td>\n",
       "      <td>4793967</td>\n",
       "    </tr>\n",
       "  </tbody>\n",
       "</table>\n",
       "</div>"
      ],
      "text/plain": [
       "      ticker        date     open     high      low    close   volume\n",
       "15099  GOOGL  2020-02-06  1451.98  1481.56  1450.48  1475.97  1889369\n",
       "15100  GOOGL  2020-02-05  1463.61  1464.58  1429.67  1446.05  1816252\n",
       "15101  GOOGL  2020-02-04  1454.49  1467.34  1422.03  1445.41  4793967"
      ]
     },
     "execution_count": 65,
     "metadata": {},
     "output_type": "execute_result"
    }
   ],
   "source": [
    "googl=df1.iloc[googl_df1]\n",
    "googl.head(3)"
   ]
  },
  {
   "cell_type": "code",
   "execution_count": 68,
   "metadata": {},
   "outputs": [],
   "source": [
    "googl.to_csv(r'datasets/nasdaq/GOOGL.csv', index=False)"
   ]
  },
  {
   "cell_type": "code",
   "execution_count": 69,
   "metadata": {},
   "outputs": [
    {
     "data": {
      "text/plain": [
       "5033"
      ]
     },
     "execution_count": 69,
     "metadata": {},
     "output_type": "execute_result"
    }
   ],
   "source": [
    "amzn_df1=[]\n",
    "for i in df1.index:\n",
    "    if df1['ticker'][i]=='AMZN':\n",
    "        amzn_df1.append(i)\n",
    "        \n",
    "len(amzn_df1)"
   ]
  },
  {
   "cell_type": "code",
   "execution_count": 72,
   "metadata": {},
   "outputs": [
    {
     "data": {
      "text/html": [
       "<div>\n",
       "<style scoped>\n",
       "    .dataframe tbody tr th:only-of-type {\n",
       "        vertical-align: middle;\n",
       "    }\n",
       "\n",
       "    .dataframe tbody tr th {\n",
       "        vertical-align: top;\n",
       "    }\n",
       "\n",
       "    .dataframe thead th {\n",
       "        text-align: right;\n",
       "    }\n",
       "</style>\n",
       "<table border=\"1\" class=\"dataframe\">\n",
       "  <thead>\n",
       "    <tr style=\"text-align: right;\">\n",
       "      <th></th>\n",
       "      <th>ticker</th>\n",
       "      <th>date</th>\n",
       "      <th>open</th>\n",
       "      <th>high</th>\n",
       "      <th>low</th>\n",
       "      <th>close</th>\n",
       "      <th>volume</th>\n",
       "    </tr>\n",
       "  </thead>\n",
       "  <tbody>\n",
       "    <tr>\n",
       "      <th>10066</th>\n",
       "      <td>AMZN</td>\n",
       "      <td>2020-02-06</td>\n",
       "      <td>2041.02</td>\n",
       "      <td>2056.30</td>\n",
       "      <td>2024.8001</td>\n",
       "      <td>2050.23</td>\n",
       "      <td>3176484</td>\n",
       "    </tr>\n",
       "    <tr>\n",
       "      <th>10067</th>\n",
       "      <td>AMZN</td>\n",
       "      <td>2020-02-05</td>\n",
       "      <td>2071.02</td>\n",
       "      <td>2071.02</td>\n",
       "      <td>2032.0000</td>\n",
       "      <td>2039.87</td>\n",
       "      <td>4253068</td>\n",
       "    </tr>\n",
       "    <tr>\n",
       "      <th>10068</th>\n",
       "      <td>AMZN</td>\n",
       "      <td>2020-02-04</td>\n",
       "      <td>2029.88</td>\n",
       "      <td>2059.80</td>\n",
       "      <td>2015.3700</td>\n",
       "      <td>2049.67</td>\n",
       "      <td>5289338</td>\n",
       "    </tr>\n",
       "  </tbody>\n",
       "</table>\n",
       "</div>"
      ],
      "text/plain": [
       "      ticker        date     open     high        low    close   volume\n",
       "10066   AMZN  2020-02-06  2041.02  2056.30  2024.8001  2050.23  3176484\n",
       "10067   AMZN  2020-02-05  2071.02  2071.02  2032.0000  2039.87  4253068\n",
       "10068   AMZN  2020-02-04  2029.88  2059.80  2015.3700  2049.67  5289338"
      ]
     },
     "execution_count": 72,
     "metadata": {},
     "output_type": "execute_result"
    }
   ],
   "source": [
    "amzn=df1.iloc[amzn_df1]\n",
    "amzn.head(3)"
   ]
  },
  {
   "cell_type": "code",
   "execution_count": 73,
   "metadata": {},
   "outputs": [],
   "source": [
    "amzn.to_csv(r'datasets/nasdaq/AMZN.csv', index=False)"
   ]
  },
  {
   "cell_type": "code",
   "execution_count": 74,
   "metadata": {},
   "outputs": [
    {
     "data": {
      "text/plain": [
       "5033"
      ]
     },
     "execution_count": 74,
     "metadata": {},
     "output_type": "execute_result"
    }
   ],
   "source": [
    "msft_df1=[]\n",
    "for i in df1.index:\n",
    "    if df1['ticker'][i]=='MSFT':\n",
    "        msft_df1.append(i)\n",
    "        \n",
    "len(msft_df1)"
   ]
  },
  {
   "cell_type": "code",
   "execution_count": 76,
   "metadata": {},
   "outputs": [
    {
     "data": {
      "text/html": [
       "<div>\n",
       "<style scoped>\n",
       "    .dataframe tbody tr th:only-of-type {\n",
       "        vertical-align: middle;\n",
       "    }\n",
       "\n",
       "    .dataframe tbody tr th {\n",
       "        vertical-align: top;\n",
       "    }\n",
       "\n",
       "    .dataframe thead th {\n",
       "        text-align: right;\n",
       "    }\n",
       "</style>\n",
       "<table border=\"1\" class=\"dataframe\">\n",
       "  <thead>\n",
       "    <tr style=\"text-align: right;\">\n",
       "      <th></th>\n",
       "      <th>ticker</th>\n",
       "      <th>date</th>\n",
       "      <th>open</th>\n",
       "      <th>high</th>\n",
       "      <th>low</th>\n",
       "      <th>close</th>\n",
       "      <th>volume</th>\n",
       "    </tr>\n",
       "  </thead>\n",
       "  <tbody>\n",
       "    <tr>\n",
       "      <th>5033</th>\n",
       "      <td>MSFT</td>\n",
       "      <td>2020-02-06</td>\n",
       "      <td>180.97</td>\n",
       "      <td>183.8199</td>\n",
       "      <td>180.0590</td>\n",
       "      <td>183.63</td>\n",
       "      <td>27699794</td>\n",
       "    </tr>\n",
       "    <tr>\n",
       "      <th>5034</th>\n",
       "      <td>MSFT</td>\n",
       "      <td>2020-02-05</td>\n",
       "      <td>184.03</td>\n",
       "      <td>184.2000</td>\n",
       "      <td>178.4101</td>\n",
       "      <td>179.90</td>\n",
       "      <td>38730789</td>\n",
       "    </tr>\n",
       "    <tr>\n",
       "      <th>5035</th>\n",
       "      <td>MSFT</td>\n",
       "      <td>2020-02-04</td>\n",
       "      <td>177.14</td>\n",
       "      <td>180.6400</td>\n",
       "      <td>176.3100</td>\n",
       "      <td>180.12</td>\n",
       "      <td>36433339</td>\n",
       "    </tr>\n",
       "  </tbody>\n",
       "</table>\n",
       "</div>"
      ],
      "text/plain": [
       "     ticker        date    open      high       low   close    volume\n",
       "5033   MSFT  2020-02-06  180.97  183.8199  180.0590  183.63  27699794\n",
       "5034   MSFT  2020-02-05  184.03  184.2000  178.4101  179.90  38730789\n",
       "5035   MSFT  2020-02-04  177.14  180.6400  176.3100  180.12  36433339"
      ]
     },
     "execution_count": 76,
     "metadata": {},
     "output_type": "execute_result"
    }
   ],
   "source": [
    "msft=df1.iloc[msft_df1]\n",
    "msft.head(3)"
   ]
  },
  {
   "cell_type": "code",
   "execution_count": 77,
   "metadata": {},
   "outputs": [],
   "source": [
    "msft.to_csv(r'datasets/nasdaq/MSFT.csv', index=False)"
   ]
  },
  {
   "cell_type": "code",
   "execution_count": 75,
   "metadata": {},
   "outputs": [
    {
     "data": {
      "text/plain": [
       "0"
      ]
     },
     "execution_count": 75,
     "metadata": {},
     "output_type": "execute_result"
    }
   ],
   "source": [
    "msft_df2=[]\n",
    "for i in df2.index:\n",
    "    if df2['ticker'][i]=='MSFT':\n",
    "        msft_df2.append(i)\n",
    "        \n",
    "len(msft_df2)"
   ]
  },
  {
   "cell_type": "code",
   "execution_count": 83,
   "metadata": {},
   "outputs": [
    {
     "data": {
      "text/html": [
       "<div>\n",
       "<style scoped>\n",
       "    .dataframe tbody tr th:only-of-type {\n",
       "        vertical-align: middle;\n",
       "    }\n",
       "\n",
       "    .dataframe tbody tr th {\n",
       "        vertical-align: top;\n",
       "    }\n",
       "\n",
       "    .dataframe thead th {\n",
       "        text-align: right;\n",
       "    }\n",
       "</style>\n",
       "<table border=\"1\" class=\"dataframe\">\n",
       "  <thead>\n",
       "    <tr style=\"text-align: right;\">\n",
       "      <th></th>\n",
       "      <th>ticker</th>\n",
       "      <th>date</th>\n",
       "      <th>open</th>\n",
       "      <th>high</th>\n",
       "      <th>low</th>\n",
       "      <th>close</th>\n",
       "      <th>volume</th>\n",
       "    </tr>\n",
       "  </thead>\n",
       "  <tbody>\n",
       "    <tr>\n",
       "      <th>0</th>\n",
       "      <td>AAPL</td>\n",
       "      <td>2000-02-04</td>\n",
       "      <td>103.94</td>\n",
       "      <td>110.00</td>\n",
       "      <td>103.62</td>\n",
       "      <td>108.00</td>\n",
       "      <td>3797500</td>\n",
       "    </tr>\n",
       "    <tr>\n",
       "      <th>1</th>\n",
       "      <td>AAPL</td>\n",
       "      <td>2000-02-07</td>\n",
       "      <td>108.00</td>\n",
       "      <td>114.25</td>\n",
       "      <td>105.94</td>\n",
       "      <td>114.06</td>\n",
       "      <td>3938100</td>\n",
       "    </tr>\n",
       "    <tr>\n",
       "      <th>2</th>\n",
       "      <td>AAPL</td>\n",
       "      <td>2000-02-08</td>\n",
       "      <td>114.00</td>\n",
       "      <td>116.12</td>\n",
       "      <td>111.25</td>\n",
       "      <td>114.87</td>\n",
       "      <td>3648600</td>\n",
       "    </tr>\n",
       "    <tr>\n",
       "      <th>3</th>\n",
       "      <td>AAPL</td>\n",
       "      <td>2000-02-09</td>\n",
       "      <td>114.12</td>\n",
       "      <td>117.12</td>\n",
       "      <td>112.44</td>\n",
       "      <td>112.62</td>\n",
       "      <td>2672900</td>\n",
       "    </tr>\n",
       "    <tr>\n",
       "      <th>4</th>\n",
       "      <td>AAPL</td>\n",
       "      <td>2000-02-10</td>\n",
       "      <td>112.87</td>\n",
       "      <td>113.87</td>\n",
       "      <td>110.00</td>\n",
       "      <td>113.50</td>\n",
       "      <td>2705200</td>\n",
       "    </tr>\n",
       "  </tbody>\n",
       "</table>\n",
       "</div>"
      ],
      "text/plain": [
       "  ticker        date    open    high     low   close   volume\n",
       "0   AAPL  2000-02-04  103.94  110.00  103.62  108.00  3797500\n",
       "1   AAPL  2000-02-07  108.00  114.25  105.94  114.06  3938100\n",
       "2   AAPL  2000-02-08  114.00  116.12  111.25  114.87  3648600\n",
       "3   AAPL  2000-02-09  114.12  117.12  112.44  112.62  2672900\n",
       "4   AAPL  2000-02-10  112.87  113.87  110.00  113.50  2705200"
      ]
     },
     "execution_count": 83,
     "metadata": {},
     "output_type": "execute_result"
    }
   ],
   "source": [
    "top5_prices=pd.concat([aapl,amzn,googl,tsla,msft]).sort_values(by=['ticker','date']).reset_index(drop=True)\n",
    "top5_prices.head()"
   ]
  },
  {
   "cell_type": "code",
   "execution_count": 84,
   "metadata": {},
   "outputs": [],
   "source": [
    "top5_prices.to_csv(r'datasets/nasdaq/top5_prices.csv', index=False)"
   ]
  },
  {
   "cell_type": "code",
   "execution_count": 94,
   "metadata": {},
   "outputs": [
    {
     "name": "stdout",
     "output_type": "stream",
     "text": [
      "AAPL 0\n",
      "TSLA 0\n",
      "MSFT 0\n",
      "GOOGL 0\n",
      "AMZN 0\n"
     ]
    }
   ],
   "source": [
    "# ver se existem estes tickers noutros dfs\n",
    "dfs=[df1,df2,df3,df4,df5,df6,df7,df8,df9]\n",
    "tickers=['AAPL','TSLA','MSFT','GOOGL','AMZN']\n",
    "for i in range(len(dfs)):\n",
    "    for ticker in tickers:\n",
    "        if ticker in dfs[i]['ticker'].unique():\n",
    "            print(ticker, i)"
   ]
  },
  {
   "cell_type": "code",
   "execution_count": null,
   "metadata": {},
   "outputs": [],
   "source": []
  }
 ],
 "metadata": {
  "kernelspec": {
   "display_name": "Python 3",
   "language": "python",
   "name": "python3"
  },
  "language_info": {
   "codemirror_mode": {
    "name": "ipython",
    "version": 3
   },
   "file_extension": ".py",
   "mimetype": "text/x-python",
   "name": "python",
   "nbconvert_exporter": "python",
   "pygments_lexer": "ipython3",
   "version": "3.7.4"
  }
 },
 "nbformat": 4,
 "nbformat_minor": 4
}
